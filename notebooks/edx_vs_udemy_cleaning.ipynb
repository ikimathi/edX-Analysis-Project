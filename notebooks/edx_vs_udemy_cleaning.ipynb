{
 "cells": [
  {
   "cell_type": "markdown",
   "metadata": {
    "id": "WVUPbqFJoJ56"
   },
   "source": [
    "#ED-X Dashboard Backend(EDA)⛏:\n",
    "This is a Jupyter Notebook file that features the exploratory data analysis (EDA) steps taken to create the CSV files and SQL queries that fuel the Udemy Dashboard. The tools used include Python and SQL Lite."
   ]
  },
  {
   "cell_type": "code",
   "execution_count": 33,
   "metadata": {
    "id": "KTOmBURbkagN"
   },
   "outputs": [],
   "source": [
    "import sqlite3\n",
    "from pathlib import Path\n",
    "\n",
    "import pandas as pd\n",
    "import numpy as np\n",
    "import matplotlib.pyplot as plt\n",
    "import seaborn as sns"
   ]
  },
  {
   "cell_type": "code",
   "execution_count": 34,
   "metadata": {
    "colab": {
     "base_uri": "https://localhost:8080/",
     "height": 416
    },
    "id": "_x0P5SbukjXY",
    "outputId": "13a109c2-e1fc-4534-8cb3-13233a7ba5c9"
   },
   "outputs": [
    {
     "data": {
      "text/html": [
       "<div>\n",
       "<style scoped>\n",
       "    .dataframe tbody tr th:only-of-type {\n",
       "        vertical-align: middle;\n",
       "    }\n",
       "\n",
       "    .dataframe tbody tr th {\n",
       "        vertical-align: top;\n",
       "    }\n",
       "\n",
       "    .dataframe thead th {\n",
       "        text-align: right;\n",
       "    }\n",
       "</style>\n",
       "<table border=\"1\" class=\"dataframe\">\n",
       "  <thead>\n",
       "    <tr style=\"text-align: right;\">\n",
       "      <th></th>\n",
       "      <th>title</th>\n",
       "      <th>summary</th>\n",
       "      <th>n_enrolled</th>\n",
       "      <th>course_type</th>\n",
       "      <th>institution</th>\n",
       "      <th>instructors</th>\n",
       "      <th>Level</th>\n",
       "      <th>subject</th>\n",
       "      <th>language</th>\n",
       "      <th>subtitles</th>\n",
       "      <th>course_effort</th>\n",
       "      <th>course_length</th>\n",
       "      <th>price</th>\n",
       "      <th>course_description</th>\n",
       "      <th>course_syllabus</th>\n",
       "      <th>course_url</th>\n",
       "    </tr>\n",
       "  </thead>\n",
       "  <tbody>\n",
       "    <tr>\n",
       "      <th>972</th>\n",
       "      <td>Computational Neuroscience: Neuronal Dynamics ...</td>\n",
       "      <td>This course explains the mathematical and comp...</td>\n",
       "      <td>11,246</td>\n",
       "      <td>Self-paced on your time</td>\n",
       "      <td>École polytechnique fédérale de Lausanne</td>\n",
       "      <td>Wulfram Gerstner</td>\n",
       "      <td>Advanced</td>\n",
       "      <td>Biology &amp; Life Sciences</td>\n",
       "      <td>English</td>\n",
       "      <td>English</td>\n",
       "      <td>4–6 hours per week</td>\n",
       "      <td>6 Weeks</td>\n",
       "      <td>FREE-Add a Verified Certificate for $139 USD</td>\n",
       "      <td>What happens in your brain when you make a dec...</td>\n",
       "      <td>Textbook: Neuronal Dynamics - from single neur...</td>\n",
       "      <td>https://www.edx.org/course/computational-neuro...</td>\n",
       "    </tr>\n",
       "    <tr>\n",
       "      <th>973</th>\n",
       "      <td>Cities and the Challenge of Sustainable Develo...</td>\n",
       "      <td>What is a sustainable city? Learn the basics h...</td>\n",
       "      <td>8,775</td>\n",
       "      <td>Self-paced on your time</td>\n",
       "      <td>SDG Academy</td>\n",
       "      <td>Jeffrey D. Sachs</td>\n",
       "      <td>Introductory</td>\n",
       "      <td>Environmental Studies</td>\n",
       "      <td>English</td>\n",
       "      <td>English</td>\n",
       "      <td>1–2 hours per week</td>\n",
       "      <td>1 Weeks</td>\n",
       "      <td>FREE-Add a Verified Certificate for $25 USD</td>\n",
       "      <td>According to the United Nations, urbanization ...</td>\n",
       "      <td>Module 1: Introduction to the SDGsProfessor Je...</td>\n",
       "      <td>https://www.edx.org/course/cities-and-the-chal...</td>\n",
       "    </tr>\n",
       "    <tr>\n",
       "      <th>974</th>\n",
       "      <td>MathTrackX: Special Functions</td>\n",
       "      <td>Understand trigonometric, exponential and loga...</td>\n",
       "      <td>NaN</td>\n",
       "      <td>Self-paced on your time</td>\n",
       "      <td>University of Adelaide</td>\n",
       "      <td>Dr David Butler</td>\n",
       "      <td>Introductory</td>\n",
       "      <td>Math</td>\n",
       "      <td>English</td>\n",
       "      <td>English</td>\n",
       "      <td>3–6 hours per week</td>\n",
       "      <td>4 Weeks</td>\n",
       "      <td>FREE-Add a Verified Certificate for $79 USD</td>\n",
       "      <td>This course is part two of the MathTrackX XSer...</td>\n",
       "      <td>NaN</td>\n",
       "      <td>https://www.edx.org/course/mathtrackx-special-...</td>\n",
       "    </tr>\n",
       "  </tbody>\n",
       "</table>\n",
       "</div>"
      ],
      "text/plain": [
       "                                                 title  \\\n",
       "972  Computational Neuroscience: Neuronal Dynamics ...   \n",
       "973  Cities and the Challenge of Sustainable Develo...   \n",
       "974                      MathTrackX: Special Functions   \n",
       "\n",
       "                                               summary n_enrolled  \\\n",
       "972  This course explains the mathematical and comp...     11,246   \n",
       "973  What is a sustainable city? Learn the basics h...      8,775   \n",
       "974  Understand trigonometric, exponential and loga...        NaN   \n",
       "\n",
       "                 course_type                               institution  \\\n",
       "972  Self-paced on your time  École polytechnique fédérale de Lausanne   \n",
       "973  Self-paced on your time                               SDG Academy   \n",
       "974  Self-paced on your time                    University of Adelaide   \n",
       "\n",
       "          instructors         Level                  subject language  \\\n",
       "972  Wulfram Gerstner      Advanced  Biology & Life Sciences  English   \n",
       "973  Jeffrey D. Sachs  Introductory    Environmental Studies  English   \n",
       "974   Dr David Butler  Introductory                     Math  English   \n",
       "\n",
       "    subtitles       course_effort course_length  \\\n",
       "972   English  4–6 hours per week       6 Weeks   \n",
       "973   English  1–2 hours per week       1 Weeks   \n",
       "974   English  3–6 hours per week       4 Weeks   \n",
       "\n",
       "                                            price  \\\n",
       "972  FREE-Add a Verified Certificate for $139 USD   \n",
       "973   FREE-Add a Verified Certificate for $25 USD   \n",
       "974   FREE-Add a Verified Certificate for $79 USD   \n",
       "\n",
       "                                    course_description  \\\n",
       "972  What happens in your brain when you make a dec...   \n",
       "973  According to the United Nations, urbanization ...   \n",
       "974  This course is part two of the MathTrackX XSer...   \n",
       "\n",
       "                                       course_syllabus  \\\n",
       "972  Textbook: Neuronal Dynamics - from single neur...   \n",
       "973  Module 1: Introduction to the SDGsProfessor Je...   \n",
       "974                                                NaN   \n",
       "\n",
       "                                            course_url  \n",
       "972  https://www.edx.org/course/computational-neuro...  \n",
       "973  https://www.edx.org/course/cities-and-the-chal...  \n",
       "974  https://www.edx.org/course/mathtrackx-special-...  "
      ]
     },
     "execution_count": 34,
     "metadata": {},
     "output_type": "execute_result"
    }
   ],
   "source": [
    "edx_FILEPATH = \"G:\\CODE_playground\\data_warehouse\\KAGGLE\\MOOC data (udemy vs. edx)\\edx_courses.csv\"\n",
    "edx_courses = pd.read_csv(edx_FILEPATH)\n",
    "edx_courses.tail(3)"
   ]
  },
  {
   "cell_type": "code",
   "execution_count": 35,
   "metadata": {
    "colab": {
     "base_uri": "https://localhost:8080/"
    },
    "id": "r9c6A2KMGQ06",
    "outputId": "7c0c49e3-49ae-422c-8f8f-53d9b3798ae5"
   },
   "outputs": [
    {
     "data": {
      "text/plain": [
       "title                 object\n",
       "summary               object\n",
       "n_enrolled            object\n",
       "course_type           object\n",
       "institution           object\n",
       "instructors           object\n",
       "Level                 object\n",
       "subject               object\n",
       "language              object\n",
       "subtitles             object\n",
       "course_effort         object\n",
       "course_length         object\n",
       "price                 object\n",
       "course_description    object\n",
       "course_syllabus       object\n",
       "course_url            object\n",
       "dtype: object"
      ]
     },
     "execution_count": 35,
     "metadata": {},
     "output_type": "execute_result"
    }
   ],
   "source": [
    "edx_courses.dtypes"
   ]
  },
  {
   "cell_type": "markdown",
   "metadata": {
    "id": "aIprk2eWTGSd"
   },
   "source": [
    "## Data Cleaning"
   ]
  },
  {
   "cell_type": "code",
   "execution_count": 36,
   "metadata": {
    "colab": {
     "base_uri": "https://localhost:8080/"
    },
    "id": "j4vW4g-iQLa4",
    "outputId": "80755de6-e457-4526-a3b7-5d5e022983d7"
   },
   "outputs": [
    {
     "data": {
      "text/plain": [
       "title                   0\n",
       "summary                53\n",
       "n_enrolled            120\n",
       "course_type             0\n",
       "institution             0\n",
       "instructors             3\n",
       "Level                   0\n",
       "subject                 0\n",
       "language                0\n",
       "subtitles               3\n",
       "course_effort           0\n",
       "course_length           0\n",
       "price                   0\n",
       "course_description     40\n",
       "course_syllabus       558\n",
       "course_url              0\n",
       "dtype: int64"
      ]
     },
     "execution_count": 36,
     "metadata": {},
     "output_type": "execute_result"
    }
   ],
   "source": [
    "# sum of null values in every column\n",
    "edx_courses.isna().sum()"
   ]
  },
  {
   "cell_type": "code",
   "execution_count": 37,
   "metadata": {
    "colab": {
     "base_uri": "https://localhost:8080/"
    },
    "id": "rTD4wRP3MiiQ",
    "outputId": "397c3a8b-09f1-473f-de20-6a07990892d5"
   },
   "outputs": [
    {
     "name": "stderr",
     "output_type": "stream",
     "text": [
      "<ipython-input-37-8add241d36b6>:3: FutureWarning: The default value of regex will change from True to False in a future version. In addition, single character regular expressions will*not* be treated as literal strings when regex=True.\n",
      "  edx_courses['price'] = edx_courses['price'].str.replace('$', '')\n"
     ]
    },
    {
     "data": {
      "text/plain": [
       "0       49.0\n",
       "1       49.0\n",
       "2       90.0\n",
       "3      199.0\n",
       "4      249.0\n",
       "       ...  \n",
       "970     25.0\n",
       "971    139.0\n",
       "972    139.0\n",
       "973     25.0\n",
       "974     79.0\n",
       "Name: price, Length: 975, dtype: float64"
      ]
     },
     "execution_count": 37,
     "metadata": {},
     "output_type": "execute_result"
    }
   ],
   "source": [
    "# clean 'price' column\n",
    "edx_courses['price'] = edx_courses['price'].str.replace('FREE-Add a Verified Certificate for ', '')\n",
    "edx_courses['price'] = edx_courses['price'].str.replace('$', '')\n",
    "edx_courses['price'] = edx_courses['price'].str.replace(' USD', '')\n",
    "edx_courses['price'] = edx_courses['price'].astype(float)\n",
    "edx_courses['price']"
   ]
  },
  {
   "cell_type": "code",
   "execution_count": 38,
   "metadata": {
    "colab": {
     "base_uri": "https://localhost:8080/"
    },
    "id": "ZXMBqg3rNkpT",
    "outputId": "4ae9404d-6cc2-4696-cf76-6691771865db"
   },
   "outputs": [
    {
     "data": {
      "text/plain": [
       "0     124980\n",
       "1     293864\n",
       "2    2442271\n",
       "3     129555\n",
       "4      81140\n",
       "Name: n_enrolled, dtype: int32"
      ]
     },
     "execution_count": 38,
     "metadata": {},
     "output_type": "execute_result"
    }
   ],
   "source": [
    "# clean 'n_enrolled' column\n",
    "edx_courses['n_enrolled'] = edx_courses['n_enrolled'].str.replace(',', '')\n",
    "edx_courses['n_enrolled'] = edx_courses['n_enrolled'].fillna(0)\n",
    "edx_courses['n_enrolled'] = edx_courses['n_enrolled'].astype(int)\n",
    "edx_courses['n_enrolled'].head()"
   ]
  },
  {
   "cell_type": "code",
   "execution_count": 39,
   "metadata": {
    "colab": {
     "base_uri": "https://localhost:8080/"
    },
    "id": "tLT3qxZQGo7J",
    "outputId": "24d6b3ff-757f-42b5-8f0c-d78349f557cf"
   },
   "outputs": [
    {
     "data": {
      "text/plain": [
       "0     2\n",
       "1     7\n",
       "2    12\n",
       "3    13\n",
       "4     4\n",
       "Name: course_length, dtype: int32"
      ]
     },
     "execution_count": 39,
     "metadata": {},
     "output_type": "execute_result"
    }
   ],
   "source": [
    "# clean 'course_length' column\n",
    "edx_courses['course_length'] = edx_courses['course_length'].str.replace('Weeks', '')\n",
    "edx_courses['course_length'] = edx_courses['course_length'].astype(int)\n",
    "edx_courses['course_length'].head()"
   ]
  },
  {
   "cell_type": "code",
   "execution_count": 40,
   "metadata": {
    "id": "0PpcOQJAT84y"
   },
   "outputs": [],
   "source": [
    "# fill null values\n",
    "edx_courses['summary'] = edx_courses['summary'].fillna('Unlisted')\n",
    "edx_courses['instructors'] = edx_courses['instructors'].fillna('Unlisted')\n",
    "edx_courses['subtitles'] = edx_courses['subtitles'].fillna('English')\n",
    "edx_courses['course_description'] = edx_courses['course_description'].fillna('Unlisted')\n",
    "edx_courses['course_syllabus'] = edx_courses['course_syllabus'].fillna('Unlisted')"
   ]
  },
  {
   "cell_type": "code",
   "execution_count": 41,
   "metadata": {
    "colab": {
     "base_uri": "https://localhost:8080/"
    },
    "id": "q5fxK-2_Pk6T",
    "outputId": "d98cf5da-656d-4bfc-ed02-73fa92d34a6d",
    "scrolled": true
   },
   "outputs": [
    {
     "data": {
      "text/plain": [
       "title                 0\n",
       "summary               0\n",
       "n_enrolled            0\n",
       "course_type           0\n",
       "institution           0\n",
       "instructors           0\n",
       "Level                 0\n",
       "subject               0\n",
       "language              0\n",
       "subtitles             0\n",
       "course_effort         0\n",
       "course_length         0\n",
       "price                 0\n",
       "course_description    0\n",
       "course_syllabus       0\n",
       "course_url            0\n",
       "dtype: int64"
      ]
     },
     "execution_count": 41,
     "metadata": {},
     "output_type": "execute_result"
    }
   ],
   "source": [
    "# sum of null values in every column(after filling)\n",
    "edx_courses.isna().sum()"
   ]
  },
  {
   "cell_type": "code",
   "execution_count": 42,
   "metadata": {
    "scrolled": true
   },
   "outputs": [
    {
     "data": {
      "text/plain": [
       "title                  object\n",
       "summary                object\n",
       "n_enrolled              int32\n",
       "course_type            object\n",
       "institution            object\n",
       "instructors            object\n",
       "Level                  object\n",
       "subject                object\n",
       "language               object\n",
       "subtitles              object\n",
       "course_effort          object\n",
       "course_length           int32\n",
       "price                 float64\n",
       "course_description     object\n",
       "course_syllabus        object\n",
       "course_url             object\n",
       "dtype: object"
      ]
     },
     "execution_count": 42,
     "metadata": {},
     "output_type": "execute_result"
    }
   ],
   "source": [
    "edx_courses.dtypes"
   ]
  },
  {
   "cell_type": "markdown",
   "metadata": {
    "id": "RJBX78_TWzUx"
   },
   "source": [
    "## Data transformation"
   ]
  },
  {
   "cell_type": "code",
   "execution_count": 43,
   "metadata": {
    "colab": {
     "base_uri": "https://localhost:8080/"
    },
    "id": "ZqxnYyqeV6E2",
    "outputId": "6de07656-11e5-4b1e-da0b-f00dbf5a009e"
   },
   "outputs": [
    {
     "name": "stdout",
     "output_type": "stream",
     "text": [
      "Introductory    621\n",
      "Intermediate    267\n",
      "Advanced         87\n",
      "Name: Level, dtype: int64\n",
      "\n",
      "2    621\n",
      "1    267\n",
      "0     87\n",
      "Name: Level, dtype: int64\n"
     ]
    }
   ],
   "source": [
    "# establish categories used in column: ['Advanced', 'Intermediate', 'Introductory']\n",
    "edx_courses['Level'] = edx_courses['Level'].astype('category')\n",
    "print(edx_courses['Level'].value_counts())\n",
    "print()\n",
    "\n",
    "# transform categories to numerical values\n",
    "edx_courses['Level'] = edx_courses['Level'].cat.codes\n",
    "print(edx_courses['Level'].value_counts())"
   ]
  },
  {
   "cell_type": "code",
   "execution_count": 44,
   "metadata": {
    "colab": {
     "base_uri": "https://localhost:8080/"
    },
    "id": "lJx-qOWpXAB-",
    "outputId": "c38dcfa2-35a9-49ce-b6a9-565fe426959c"
   },
   "outputs": [
    {
     "name": "stdout",
     "output_type": "stream",
     "text": [
      "Self-paced on your time                917\n",
      "Instructor-led on a course schedule     58\n",
      "Name: course_type, dtype: int64\n",
      "\n",
      "1    917\n",
      "0     58\n",
      "Name: course_type, dtype: int64\n"
     ]
    }
   ],
   "source": [
    "# establish categories used in column: ['Instructor-led on a course schedule', 'Self-paced on your time']\n",
    "edx_courses['course_type'] = edx_courses['course_type'].astype('category')\n",
    "print(edx_courses['course_type'].value_counts())\n",
    "print()\n",
    "\n",
    "# transform categories to numerical values\n",
    "edx_courses['course_type'] = edx_courses['course_type'].cat.codes\n",
    "print(edx_courses['course_type'].value_counts())"
   ]
  },
  {
   "cell_type": "code",
   "execution_count": 46,
   "metadata": {
    "colab": {
     "base_uri": "https://localhost:8080/"
    },
    "id": "lM_pj7J1J9en",
    "outputId": "c03e01a1-4623-441d-cd8b-8d9b7980c139"
   },
   "outputs": [
    {
     "name": "stdout",
     "output_type": "stream",
     "text": [
      "<class 'pandas.core.frame.DataFrame'>\n",
      "RangeIndex: 975 entries, 0 to 974\n",
      "Data columns (total 16 columns):\n",
      " #   Column              Non-Null Count  Dtype  \n",
      "---  ------              --------------  -----  \n",
      " 0   title               975 non-null    object \n",
      " 1   summary             975 non-null    object \n",
      " 2   n_enrolled          975 non-null    int32  \n",
      " 3   course_type         975 non-null    int8   \n",
      " 4   institution         975 non-null    object \n",
      " 5   instructors         975 non-null    object \n",
      " 6   Level               975 non-null    int8   \n",
      " 7   subject             975 non-null    object \n",
      " 8   language            975 non-null    object \n",
      " 9   subtitles           975 non-null    object \n",
      " 10  course_effort       975 non-null    object \n",
      " 11  course_length       975 non-null    int32  \n",
      " 12  price               975 non-null    float64\n",
      " 13  course_description  975 non-null    object \n",
      " 14  course_syllabus     975 non-null    object \n",
      " 15  course_url          975 non-null    object \n",
      "dtypes: float64(1), int32(2), int8(2), object(11)\n",
      "memory usage: 101.1+ KB\n"
     ]
    }
   ],
   "source": [
    "edx_courses.info()"
   ]
  },
  {
   "cell_type": "code",
   "execution_count": 45,
   "metadata": {},
   "outputs": [
    {
     "data": {
      "text/html": [
       "<div>\n",
       "<style scoped>\n",
       "    .dataframe tbody tr th:only-of-type {\n",
       "        vertical-align: middle;\n",
       "    }\n",
       "\n",
       "    .dataframe tbody tr th {\n",
       "        vertical-align: top;\n",
       "    }\n",
       "\n",
       "    .dataframe thead th {\n",
       "        text-align: right;\n",
       "    }\n",
       "</style>\n",
       "<table border=\"1\" class=\"dataframe\">\n",
       "  <thead>\n",
       "    <tr style=\"text-align: right;\">\n",
       "      <th></th>\n",
       "      <th>n_enrolled</th>\n",
       "      <th>course_type</th>\n",
       "      <th>Level</th>\n",
       "      <th>course_length</th>\n",
       "      <th>price</th>\n",
       "    </tr>\n",
       "  </thead>\n",
       "  <tbody>\n",
       "    <tr>\n",
       "      <th>count</th>\n",
       "      <td>9.750000e+02</td>\n",
       "      <td>975.000000</td>\n",
       "      <td>975.000000</td>\n",
       "      <td>975.000000</td>\n",
       "      <td>975.000000</td>\n",
       "    </tr>\n",
       "    <tr>\n",
       "      <th>mean</th>\n",
       "      <td>4.670523e+04</td>\n",
       "      <td>0.940513</td>\n",
       "      <td>1.547692</td>\n",
       "      <td>6.705641</td>\n",
       "      <td>100.465497</td>\n",
       "    </tr>\n",
       "    <tr>\n",
       "      <th>std</th>\n",
       "      <td>1.128239e+05</td>\n",
       "      <td>0.236656</td>\n",
       "      <td>0.653165</td>\n",
       "      <td>3.150327</td>\n",
       "      <td>69.572175</td>\n",
       "    </tr>\n",
       "    <tr>\n",
       "      <th>min</th>\n",
       "      <td>0.000000e+00</td>\n",
       "      <td>0.000000</td>\n",
       "      <td>0.000000</td>\n",
       "      <td>1.000000</td>\n",
       "      <td>5.000000</td>\n",
       "    </tr>\n",
       "    <tr>\n",
       "      <th>25%</th>\n",
       "      <td>8.529500e+03</td>\n",
       "      <td>1.000000</td>\n",
       "      <td>1.000000</td>\n",
       "      <td>4.000000</td>\n",
       "      <td>49.000000</td>\n",
       "    </tr>\n",
       "    <tr>\n",
       "      <th>50%</th>\n",
       "      <td>1.968700e+04</td>\n",
       "      <td>1.000000</td>\n",
       "      <td>2.000000</td>\n",
       "      <td>6.000000</td>\n",
       "      <td>79.000000</td>\n",
       "    </tr>\n",
       "    <tr>\n",
       "      <th>75%</th>\n",
       "      <td>4.891850e+04</td>\n",
       "      <td>1.000000</td>\n",
       "      <td>2.000000</td>\n",
       "      <td>8.000000</td>\n",
       "      <td>149.000000</td>\n",
       "    </tr>\n",
       "    <tr>\n",
       "      <th>max</th>\n",
       "      <td>2.442271e+06</td>\n",
       "      <td>1.000000</td>\n",
       "      <td>2.000000</td>\n",
       "      <td>18.000000</td>\n",
       "      <td>450.000000</td>\n",
       "    </tr>\n",
       "  </tbody>\n",
       "</table>\n",
       "</div>"
      ],
      "text/plain": [
       "         n_enrolled  course_type       Level  course_length       price\n",
       "count  9.750000e+02   975.000000  975.000000     975.000000  975.000000\n",
       "mean   4.670523e+04     0.940513    1.547692       6.705641  100.465497\n",
       "std    1.128239e+05     0.236656    0.653165       3.150327   69.572175\n",
       "min    0.000000e+00     0.000000    0.000000       1.000000    5.000000\n",
       "25%    8.529500e+03     1.000000    1.000000       4.000000   49.000000\n",
       "50%    1.968700e+04     1.000000    2.000000       6.000000   79.000000\n",
       "75%    4.891850e+04     1.000000    2.000000       8.000000  149.000000\n",
       "max    2.442271e+06     1.000000    2.000000      18.000000  450.000000"
      ]
     },
     "execution_count": 45,
     "metadata": {},
     "output_type": "execute_result"
    }
   ],
   "source": [
    "edx_courses.describe()"
   ]
  },
  {
   "cell_type": "markdown",
   "metadata": {
    "id": "8LKuKWAOhFA5"
   },
   "source": [
    "Now the whole dataset is cleaned and even."
   ]
  },
  {
   "cell_type": "code",
   "execution_count": 30,
   "metadata": {
    "colab": {
     "base_uri": "https://localhost:8080/"
    },
    "id": "Y5pH-3o0YJ36",
    "outputId": "582a50e2-b8a4-4db4-c3aa-efea54290091",
    "scrolled": true
   },
   "outputs": [
    {
     "data": {
      "text/plain": [
       "Computer Science                166\n",
       "Business & Management           164\n",
       "Data Analysis & Statistics       72\n",
       "Humanities                       64\n",
       "Engineering                      58\n",
       "Social Sciences                  51\n",
       "Economics & Finance              46\n",
       "Communication                    39\n",
       "Biology & Life Sciences          35\n",
       "Language                         34\n",
       "Medicine                         31\n",
       "Math                             31\n",
       "Education & Teacher Training     29\n",
       "History                          20\n",
       "Physics                          18\n",
       "Environmental Studies            16\n",
       "Art & Culture                    12\n",
       "Health & Safety                  11\n",
       "Science                          10\n",
       "Law                              10\n",
       "Design                            8\n",
       "Energy & Earth Sciences           8\n",
       "Electronics                       7\n",
       "Music                             7\n",
       "Philosophy & Ethics               6\n",
       "Food & Nutrition                  6\n",
       "Architecture                      5\n",
       "Chemistry                         5\n",
       "Literature                        4\n",
       "Philanthropy                      1\n",
       "Ethics                            1\n",
       "Name: subject, dtype: int64"
      ]
     },
     "execution_count": 30,
     "metadata": {},
     "output_type": "execute_result"
    }
   ],
   "source": [
    "# subjects with the most courses in edx(in ascending order)\n",
    "edx_courses['subject'].value_counts()"
   ]
  },
  {
   "cell_type": "code",
   "execution_count": 31,
   "metadata": {},
   "outputs": [],
   "source": [
    "# export the cleaned dataset(edx_courses) to a csv file\n",
    "edx_courses_clean = edx_courses.to_csv(\"edx_courses_clean.csv\")"
   ]
  },
  {
   "cell_type": "markdown",
   "metadata": {
    "id": "0t3xOZhvbKv3"
   },
   "source": [
    "# SQL implementation\n",
    "\n",
    "In this section, I have created a database to dump the data and use queries to access and manipulate it.\n",
    "\n",
    "*The advantage of utilizing SQL with Pandas is the ease of generating dataframe tables using SQL queries.*"
   ]
  },
  {
   "cell_type": "code",
   "execution_count": 29,
   "metadata": {
    "id": "qtZQLv3QTkro"
   },
   "outputs": [
    {
     "name": "stdout",
     "output_type": "stream",
     "text": [
      "Database created successfully!\n"
     ]
    }
   ],
   "source": [
    "try:\n",
    "    Path('edx_courses.db').unlink() # delete file if it exists (For test purposes)\n",
    "\n",
    "except FileNotFoundError:\n",
    "    # create db file\n",
    "    Path('edx_courses.db').touch()\n",
    "    print(\"Database created successfully!\")"
   ]
  },
  {
   "cell_type": "code",
   "execution_count": 32,
   "metadata": {
    "colab": {
     "base_uri": "https://localhost:8080/",
     "height": 433
    },
    "id": "MGVe0zMXbAkl",
    "outputId": "3a466866-b411-44aa-835d-ba03f654d472"
   },
   "outputs": [
    {
     "data": {
      "text/html": [
       "<div>\n",
       "<style scoped>\n",
       "    .dataframe tbody tr th:only-of-type {\n",
       "        vertical-align: middle;\n",
       "    }\n",
       "\n",
       "    .dataframe tbody tr th {\n",
       "        vertical-align: top;\n",
       "    }\n",
       "\n",
       "    .dataframe thead th {\n",
       "        text-align: right;\n",
       "    }\n",
       "</style>\n",
       "<table border=\"1\" class=\"dataframe\">\n",
       "  <thead>\n",
       "    <tr style=\"text-align: right;\">\n",
       "      <th></th>\n",
       "      <th>title</th>\n",
       "      <th>summary</th>\n",
       "      <th>n_enrolled</th>\n",
       "      <th>course_type</th>\n",
       "      <th>institution</th>\n",
       "      <th>instructors</th>\n",
       "      <th>Level</th>\n",
       "      <th>subject</th>\n",
       "      <th>language</th>\n",
       "      <th>subtitles</th>\n",
       "      <th>course_effort</th>\n",
       "      <th>course_length</th>\n",
       "      <th>price</th>\n",
       "      <th>course_description</th>\n",
       "      <th>course_syllabus</th>\n",
       "      <th>course_url</th>\n",
       "    </tr>\n",
       "  </thead>\n",
       "  <tbody>\n",
       "    <tr>\n",
       "      <th>0</th>\n",
       "      <td>How to Learn Online</td>\n",
       "      <td>Learn essential strategies for successful onli...</td>\n",
       "      <td>124980</td>\n",
       "      <td>1</td>\n",
       "      <td>edX</td>\n",
       "      <td>Nina Huntemann-Robyn Belair-Ben Piscopo</td>\n",
       "      <td>2</td>\n",
       "      <td>Education &amp; Teacher Training</td>\n",
       "      <td>English</td>\n",
       "      <td>English</td>\n",
       "      <td>2–3 hours per week</td>\n",
       "      <td>2</td>\n",
       "      <td>49.0</td>\n",
       "      <td>Designed for those who are new to elearning, t...</td>\n",
       "      <td>Welcome - We start with opportunities to meet ...</td>\n",
       "      <td>https://www.edx.org/course/how-to-learn-online</td>\n",
       "    </tr>\n",
       "    <tr>\n",
       "      <th>1</th>\n",
       "      <td>Programming for Everybody (Getting Started wit...</td>\n",
       "      <td>This course is a \"no prerequisite\" introductio...</td>\n",
       "      <td>293864</td>\n",
       "      <td>1</td>\n",
       "      <td>The University of Michigan</td>\n",
       "      <td>Charles Severance</td>\n",
       "      <td>2</td>\n",
       "      <td>Computer Science</td>\n",
       "      <td>English</td>\n",
       "      <td>English</td>\n",
       "      <td>2–4 hours per week</td>\n",
       "      <td>7</td>\n",
       "      <td>49.0</td>\n",
       "      <td>This course aims to teach everyone the basics ...</td>\n",
       "      <td>Unlisted</td>\n",
       "      <td>https://www.edx.org/course/programming-for-eve...</td>\n",
       "    </tr>\n",
       "    <tr>\n",
       "      <th>2</th>\n",
       "      <td>CS50's Introduction to Computer Science</td>\n",
       "      <td>An introduction to the intellectual enterprise...</td>\n",
       "      <td>2442271</td>\n",
       "      <td>1</td>\n",
       "      <td>Harvard University</td>\n",
       "      <td>David J. Malan-Doug Lloyd-Brian Yu</td>\n",
       "      <td>2</td>\n",
       "      <td>Computer Science</td>\n",
       "      <td>English</td>\n",
       "      <td>English</td>\n",
       "      <td>6–18 hours per week</td>\n",
       "      <td>12</td>\n",
       "      <td>90.0</td>\n",
       "      <td>This is CS50x , Harvard University's introduct...</td>\n",
       "      <td>Unlisted</td>\n",
       "      <td>https://www.edx.org/course/cs50s-introduction-...</td>\n",
       "    </tr>\n",
       "  </tbody>\n",
       "</table>\n",
       "</div>"
      ],
      "text/plain": [
       "                                               title  \\\n",
       "0                                How to Learn Online   \n",
       "1  Programming for Everybody (Getting Started wit...   \n",
       "2            CS50's Introduction to Computer Science   \n",
       "\n",
       "                                             summary  n_enrolled  course_type  \\\n",
       "0  Learn essential strategies for successful onli...      124980            1   \n",
       "1  This course is a \"no prerequisite\" introductio...      293864            1   \n",
       "2  An introduction to the intellectual enterprise...     2442271            1   \n",
       "\n",
       "                  institution                              instructors  Level  \\\n",
       "0                         edX  Nina Huntemann-Robyn Belair-Ben Piscopo      2   \n",
       "1  The University of Michigan                        Charles Severance      2   \n",
       "2          Harvard University       David J. Malan-Doug Lloyd-Brian Yu      2   \n",
       "\n",
       "                        subject language subtitles        course_effort  \\\n",
       "0  Education & Teacher Training  English   English   2–3 hours per week   \n",
       "1              Computer Science  English   English   2–4 hours per week   \n",
       "2              Computer Science  English   English  6–18 hours per week   \n",
       "\n",
       "   course_length  price                                 course_description  \\\n",
       "0              2   49.0  Designed for those who are new to elearning, t...   \n",
       "1              7   49.0  This course aims to teach everyone the basics ...   \n",
       "2             12   90.0  This is CS50x , Harvard University's introduct...   \n",
       "\n",
       "                                     course_syllabus  \\\n",
       "0  Welcome - We start with opportunities to meet ...   \n",
       "1                                           Unlisted   \n",
       "2                                           Unlisted   \n",
       "\n",
       "                                          course_url  \n",
       "0     https://www.edx.org/course/how-to-learn-online  \n",
       "1  https://www.edx.org/course/programming-for-eve...  \n",
       "2  https://www.edx.org/course/cs50s-introduction-...  "
      ]
     },
     "execution_count": 32,
     "metadata": {},
     "output_type": "execute_result"
    }
   ],
   "source": [
    "# connect to database\n",
    "edx_conn = sqlite3.connect('edx_courses.db')\n",
    "edx_cursor = edx_conn.cursor()\n",
    "\n",
    "# Write records stored in a DataFrame to a SQL database\n",
    "edx_courses.to_sql('edx_courses', edx_conn, if_exists='replace', index=False)\n",
    "\n",
    "# Read SQL query or database table into a DataFrame\n",
    "edx_courses_init_query = pd.read_sql(\n",
    "    '''\n",
    "    SELECT * from edx_courses\n",
    "    ''', edx_conn\n",
    ")\n",
    "\n",
    "edx_courses_init_query.head(3)"
   ]
  },
  {
   "cell_type": "code",
   "execution_count": null,
   "metadata": {
    "colab": {
     "base_uri": "https://localhost:8080/",
     "height": 520
    },
    "id": "jgQFsrNnhqwx",
    "outputId": "97e23f6c-fcb9-4c60-ad91-5268d0945202"
   },
   "outputs": [
    {
     "data": {
      "text/html": [
       "\n",
       "  <div id=\"df-5158ff00-5908-4b75-95c7-ec8b95707f37\">\n",
       "    <div class=\"colab-df-container\">\n",
       "      <div>\n",
       "<style scoped>\n",
       "    .dataframe tbody tr th:only-of-type {\n",
       "        vertical-align: middle;\n",
       "    }\n",
       "\n",
       "    .dataframe tbody tr th {\n",
       "        vertical-align: top;\n",
       "    }\n",
       "\n",
       "    .dataframe thead th {\n",
       "        text-align: right;\n",
       "    }\n",
       "</style>\n",
       "<table border=\"1\" class=\"dataframe\">\n",
       "  <thead>\n",
       "    <tr style=\"text-align: right;\">\n",
       "      <th></th>\n",
       "      <th>title</th>\n",
       "      <th>price</th>\n",
       "      <th>course_effort</th>\n",
       "      <th>n_enrolled</th>\n",
       "      <th>institution</th>\n",
       "    </tr>\n",
       "  </thead>\n",
       "  <tbody>\n",
       "    <tr>\n",
       "      <th>0</th>\n",
       "      <td>Python for Data Science</td>\n",
       "      <td>350.0</td>\n",
       "      <td>8–10 hours per week</td>\n",
       "      <td>266978</td>\n",
       "      <td>The University of California, San Diego</td>\n",
       "    </tr>\n",
       "    <tr>\n",
       "      <th>1</th>\n",
       "      <td>Probability and Statistics in Data Science usi...</td>\n",
       "      <td>350.0</td>\n",
       "      <td>10–12 hours per week</td>\n",
       "      <td>106286</td>\n",
       "      <td>The University of California, San Diego</td>\n",
       "    </tr>\n",
       "    <tr>\n",
       "      <th>2</th>\n",
       "      <td>Machine Learning Fundamentals</td>\n",
       "      <td>350.0</td>\n",
       "      <td>8–10 hours per week</td>\n",
       "      <td>82008</td>\n",
       "      <td>The University of California, San Diego</td>\n",
       "    </tr>\n",
       "    <tr>\n",
       "      <th>3</th>\n",
       "      <td>Probability - The Science of Uncertainty and Data</td>\n",
       "      <td>300.0</td>\n",
       "      <td>10–14 hours per week</td>\n",
       "      <td>205615</td>\n",
       "      <td>Massachusetts Institute of Technology</td>\n",
       "    </tr>\n",
       "    <tr>\n",
       "      <th>4</th>\n",
       "      <td>Statistics and R</td>\n",
       "      <td>249.0</td>\n",
       "      <td>2–4 hours per week</td>\n",
       "      <td>314586</td>\n",
       "      <td>Harvard University</td>\n",
       "    </tr>\n",
       "    <tr>\n",
       "      <th>5</th>\n",
       "      <td>Data Analytics and Visualization in Health Care</td>\n",
       "      <td>249.0</td>\n",
       "      <td>8–10 hours per week</td>\n",
       "      <td>7304</td>\n",
       "      <td>Rochester Institute of Technology</td>\n",
       "    </tr>\n",
       "    <tr>\n",
       "      <th>6</th>\n",
       "      <td>The Analytics Edge</td>\n",
       "      <td>199.0</td>\n",
       "      <td>10–15 hours per week</td>\n",
       "      <td>129555</td>\n",
       "      <td>Massachusetts Institute of Technology</td>\n",
       "    </tr>\n",
       "    <tr>\n",
       "      <th>7</th>\n",
       "      <td>Data Science for Construction, Architecture an...</td>\n",
       "      <td>199.0</td>\n",
       "      <td>4–6 hours per week</td>\n",
       "      <td>11113</td>\n",
       "      <td>The National University of Singapore</td>\n",
       "    </tr>\n",
       "    <tr>\n",
       "      <th>8</th>\n",
       "      <td>Probability and Statistics I:  A Gentle Introd...</td>\n",
       "      <td>199.0</td>\n",
       "      <td>6–10 hours per week</td>\n",
       "      <td>0</td>\n",
       "      <td>The Georgia Institute of Technology</td>\n",
       "    </tr>\n",
       "    <tr>\n",
       "      <th>9</th>\n",
       "      <td>Image Processing and Analysis for Life Scientists</td>\n",
       "      <td>199.0</td>\n",
       "      <td>2–3 hours per week</td>\n",
       "      <td>8621</td>\n",
       "      <td>École polytechnique fédérale de Lausanne</td>\n",
       "    </tr>\n",
       "    <tr>\n",
       "      <th>10</th>\n",
       "      <td>Big Data and Education</td>\n",
       "      <td>169.0</td>\n",
       "      <td>6–12 hours per week</td>\n",
       "      <td>14909</td>\n",
       "      <td>University of Pennsylvania</td>\n",
       "    </tr>\n",
       "    <tr>\n",
       "      <th>11</th>\n",
       "      <td>High-Dimensional Data Analysis</td>\n",
       "      <td>149.0</td>\n",
       "      <td>2–4 hours per week</td>\n",
       "      <td>78443</td>\n",
       "      <td>Harvard University</td>\n",
       "    </tr>\n",
       "    <tr>\n",
       "      <th>12</th>\n",
       "      <td>Introduction to Bioconductor</td>\n",
       "      <td>149.0</td>\n",
       "      <td>2–4 hours per week</td>\n",
       "      <td>36370</td>\n",
       "      <td>Harvard University</td>\n",
       "    </tr>\n",
       "    <tr>\n",
       "      <th>13</th>\n",
       "      <td>Statistical Inference and Modeling for High-th...</td>\n",
       "      <td>149.0</td>\n",
       "      <td>2–4 hours per week</td>\n",
       "      <td>51590</td>\n",
       "      <td>Harvard University</td>\n",
       "    </tr>\n",
       "    <tr>\n",
       "      <th>14</th>\n",
       "      <td>Case Studies in Functional Genomics</td>\n",
       "      <td>149.0</td>\n",
       "      <td>2–4 hours per week</td>\n",
       "      <td>26850</td>\n",
       "      <td>Harvard University</td>\n",
       "    </tr>\n",
       "  </tbody>\n",
       "</table>\n",
       "</div>\n",
       "      <button class=\"colab-df-convert\" onclick=\"convertToInteractive('df-5158ff00-5908-4b75-95c7-ec8b95707f37')\"\n",
       "              title=\"Convert this dataframe to an interactive table.\"\n",
       "              style=\"display:none;\">\n",
       "        \n",
       "  <svg xmlns=\"http://www.w3.org/2000/svg\" height=\"24px\"viewBox=\"0 0 24 24\"\n",
       "       width=\"24px\">\n",
       "    <path d=\"M0 0h24v24H0V0z\" fill=\"none\"/>\n",
       "    <path d=\"M18.56 5.44l.94 2.06.94-2.06 2.06-.94-2.06-.94-.94-2.06-.94 2.06-2.06.94zm-11 1L8.5 8.5l.94-2.06 2.06-.94-2.06-.94L8.5 2.5l-.94 2.06-2.06.94zm10 10l.94 2.06.94-2.06 2.06-.94-2.06-.94-.94-2.06-.94 2.06-2.06.94z\"/><path d=\"M17.41 7.96l-1.37-1.37c-.4-.4-.92-.59-1.43-.59-.52 0-1.04.2-1.43.59L10.3 9.45l-7.72 7.72c-.78.78-.78 2.05 0 2.83L4 21.41c.39.39.9.59 1.41.59.51 0 1.02-.2 1.41-.59l7.78-7.78 2.81-2.81c.8-.78.8-2.07 0-2.86zM5.41 20L4 18.59l7.72-7.72 1.47 1.35L5.41 20z\"/>\n",
       "  </svg>\n",
       "      </button>\n",
       "      \n",
       "  <style>\n",
       "    .colab-df-container {\n",
       "      display:flex;\n",
       "      flex-wrap:wrap;\n",
       "      gap: 12px;\n",
       "    }\n",
       "\n",
       "    .colab-df-convert {\n",
       "      background-color: #E8F0FE;\n",
       "      border: none;\n",
       "      border-radius: 50%;\n",
       "      cursor: pointer;\n",
       "      display: none;\n",
       "      fill: #1967D2;\n",
       "      height: 32px;\n",
       "      padding: 0 0 0 0;\n",
       "      width: 32px;\n",
       "    }\n",
       "\n",
       "    .colab-df-convert:hover {\n",
       "      background-color: #E2EBFA;\n",
       "      box-shadow: 0px 1px 2px rgba(60, 64, 67, 0.3), 0px 1px 3px 1px rgba(60, 64, 67, 0.15);\n",
       "      fill: #174EA6;\n",
       "    }\n",
       "\n",
       "    [theme=dark] .colab-df-convert {\n",
       "      background-color: #3B4455;\n",
       "      fill: #D2E3FC;\n",
       "    }\n",
       "\n",
       "    [theme=dark] .colab-df-convert:hover {\n",
       "      background-color: #434B5C;\n",
       "      box-shadow: 0px 1px 3px 1px rgba(0, 0, 0, 0.15);\n",
       "      filter: drop-shadow(0px 1px 2px rgba(0, 0, 0, 0.3));\n",
       "      fill: #FFFFFF;\n",
       "    }\n",
       "  </style>\n",
       "\n",
       "      <script>\n",
       "        const buttonEl =\n",
       "          document.querySelector('#df-5158ff00-5908-4b75-95c7-ec8b95707f37 button.colab-df-convert');\n",
       "        buttonEl.style.display =\n",
       "          google.colab.kernel.accessAllowed ? 'block' : 'none';\n",
       "\n",
       "        async function convertToInteractive(key) {\n",
       "          const element = document.querySelector('#df-5158ff00-5908-4b75-95c7-ec8b95707f37');\n",
       "          const dataTable =\n",
       "            await google.colab.kernel.invokeFunction('convertToInteractive',\n",
       "                                                     [key], {});\n",
       "          if (!dataTable) return;\n",
       "\n",
       "          const docLinkHtml = 'Like what you see? Visit the ' +\n",
       "            '<a target=\"_blank\" href=https://colab.research.google.com/notebooks/data_table.ipynb>data table notebook</a>'\n",
       "            + ' to learn more about interactive tables.';\n",
       "          element.innerHTML = '';\n",
       "          dataTable['output_type'] = 'display_data';\n",
       "          await google.colab.output.renderOutput(dataTable, element);\n",
       "          const docLink = document.createElement('div');\n",
       "          docLink.innerHTML = docLinkHtml;\n",
       "          element.appendChild(docLink);\n",
       "        }\n",
       "      </script>\n",
       "    </div>\n",
       "  </div>\n",
       "  "
      ],
      "text/plain": [
       "                                                title  price  \\\n",
       "0                             Python for Data Science  350.0   \n",
       "1   Probability and Statistics in Data Science usi...  350.0   \n",
       "2                       Machine Learning Fundamentals  350.0   \n",
       "3   Probability - The Science of Uncertainty and Data  300.0   \n",
       "4                                    Statistics and R  249.0   \n",
       "5     Data Analytics and Visualization in Health Care  249.0   \n",
       "6                                  The Analytics Edge  199.0   \n",
       "7   Data Science for Construction, Architecture an...  199.0   \n",
       "8   Probability and Statistics I:  A Gentle Introd...  199.0   \n",
       "9   Image Processing and Analysis for Life Scientists  199.0   \n",
       "10                             Big Data and Education  169.0   \n",
       "11                     High-Dimensional Data Analysis  149.0   \n",
       "12                       Introduction to Bioconductor  149.0   \n",
       "13  Statistical Inference and Modeling for High-th...  149.0   \n",
       "14                Case Studies in Functional Genomics  149.0   \n",
       "\n",
       "           course_effort  n_enrolled                               institution  \n",
       "0    8–10 hours per week      266978   The University of California, San Diego  \n",
       "1   10–12 hours per week      106286   The University of California, San Diego  \n",
       "2    8–10 hours per week       82008   The University of California, San Diego  \n",
       "3   10–14 hours per week      205615     Massachusetts Institute of Technology  \n",
       "4     2–4 hours per week      314586                        Harvard University  \n",
       "5    8–10 hours per week        7304         Rochester Institute of Technology  \n",
       "6   10–15 hours per week      129555     Massachusetts Institute of Technology  \n",
       "7     4–6 hours per week       11113      The National University of Singapore  \n",
       "8    6–10 hours per week           0       The Georgia Institute of Technology  \n",
       "9     2–3 hours per week        8621  École polytechnique fédérale de Lausanne  \n",
       "10   6–12 hours per week       14909                University of Pennsylvania  \n",
       "11    2–4 hours per week       78443                        Harvard University  \n",
       "12    2–4 hours per week       36370                        Harvard University  \n",
       "13    2–4 hours per week       51590                        Harvard University  \n",
       "14    2–4 hours per week       26850                        Harvard University  "
      ]
     },
     "execution_count": 52,
     "metadata": {},
     "output_type": "execute_result"
    }
   ],
   "source": [
    "data_analysis_query = pd.read_sql('''SELECT title, price, course_effort, n_enrolled, institution\n",
    "                                     FROM edx_courses\n",
    "                                     WHERE subject == 'Data Analysis & Statistics'\n",
    "                                     ORDER BY price DESC LIMIT 15''', edx_conn)\n",
    "data_analysis_query"
   ]
  },
  {
   "cell_type": "markdown",
   "metadata": {
    "id": "AQZ1rNnoqzLg"
   },
   "source": [
    "Research Q1:\n",
    "##   What is the price/value of particular subjects in edx?"
   ]
  },
  {
   "cell_type": "code",
   "execution_count": null,
   "metadata": {
    "colab": {
     "base_uri": "https://localhost:8080/",
     "height": 296
    },
    "id": "CygecZO4bBTu",
    "outputId": "46136836-0f2e-4242-d576-8f79db066dbc"
   },
   "outputs": [
    {
     "data": {
      "text/plain": [
       "<matplotlib.axes._subplots.AxesSubplot at 0x7faea3fb0760>"
      ]
     },
     "execution_count": 53,
     "metadata": {},
     "output_type": "execute_result"
    },
    {
     "data": {
      "image/png": "[encoded data removed]",
      "text/plain": [
       "<Figure size 432x288 with 1 Axes>"
      ]
     },
     "metadata": {
      "needs_background": "light"
     },
     "output_type": "display_data"
    }
   ],
   "source": [
    "sns.barplot(x='price', y='title', data=data_analysis_query, color='blue', edgecolor='black')"
   ]
  },
  {
   "cell_type": "markdown",
   "metadata": {
    "id": "ymdIM8avpJWI"
   },
   "source": [
    "Research Q2:\n",
    "##   What subjects are critically acclaimed in edx?"
   ]
  },
  {
   "cell_type": "code",
   "execution_count": null,
   "metadata": {
    "colab": {
     "base_uri": "https://localhost:8080/",
     "height": 297
    },
    "id": "3DCLcCFzoKLH",
    "outputId": "d4c51d2f-ee4f-45ea-b131-cd8af48c6e25"
   },
   "outputs": [
    {
     "data": {
      "text/plain": [
       "<matplotlib.axes._subplots.AxesSubplot at 0x7faea3e9ee80>"
      ]
     },
     "execution_count": 54,
     "metadata": {},
     "output_type": "execute_result"
    },
    {
     "data": {
      "image/png": "[encoded data removed]",
      "text/plain": [
       "<Figure size 432x288 with 1 Axes>"
      ]
     },
     "metadata": {
      "needs_background": "light"
     },
     "output_type": "display_data"
    }
   ],
   "source": [
    "sns.barplot(x='n_enrolled', y='title', data=data_analysis_query, color='blue', edgecolor='black')"
   ]
  },
  {
   "cell_type": "code",
   "execution_count": null,
   "metadata": {
    "colab": {
     "base_uri": "https://localhost:8080/",
     "height": 296
    },
    "id": "FCVu-FApocs5",
    "outputId": "c4205919-2ba4-49f5-fb51-712d864ffb7a"
   },
   "outputs": [
    {
     "data": {
      "text/plain": [
       "<matplotlib.axes._subplots.AxesSubplot at 0x7faea3e88280>"
      ]
     },
     "execution_count": 55,
     "metadata": {},
     "output_type": "execute_result"
    },
    {
     "data": {
      "image/png": "[encoded data removed]",
      "text/plain": [
       "<Figure size 432x288 with 1 Axes>"
      ]
     },
     "metadata": {
      "needs_background": "light"
     },
     "output_type": "display_data"
    }
   ],
   "source": [
    "sns.barplot(x='price', y='n_enrolled', data=data_analysis_query, color='blue', alpha=0.8, ci=False)"
   ]
  },
  {
   "cell_type": "code",
   "execution_count": null,
   "metadata": {
    "colab": {
     "base_uri": "https://localhost:8080/"
    },
    "id": "TbEVQFRmuU3b",
    "outputId": "0270c78b-b860-4cfe-9bfe-6e588b570de1"
   },
   "outputs": [
    {
     "name": "stderr",
     "output_type": "stream",
     "text": [
      "<ipython-input-56-2abba0eae07c>:1: FutureWarning: Dropping of nuisance columns in DataFrame reductions (with 'numeric_only=None') is deprecated; in a future version this will raise TypeError.  Select only valid columns before calling the reduction.\n",
      "  data_analysis_query.mean()\n"
     ]
    },
    {
     "data": {
      "text/plain": [
       "price           227.266667\n",
       "n_enrolled    89348.533333\n",
       "dtype: float64"
      ]
     },
     "execution_count": 56,
     "metadata": {},
     "output_type": "execute_result"
    }
   ],
   "source": [
    "data_analysis_query.mean()"
   ]
  },
  {
   "cell_type": "markdown",
   "metadata": {
    "id": "6x5FkBkqvnQe"
   },
   "source": [
    "### NOTE:- \n",
    "\n",
    "The above analysis is based of from a sample of 15 instances pulled from the database."
   ]
  },
  {
   "cell_type": "markdown",
   "metadata": {
    "id": "PnMQwuI5yCq0"
   },
   "source": [
    "# ANALYSIS OF PYTHON COURSES"
   ]
  },
  {
   "cell_type": "code",
   "execution_count": null,
   "metadata": {
    "colab": {
     "base_uri": "https://localhost:8080/",
     "height": 300
    },
    "id": "Y3ED1AMsuki5",
    "outputId": "36434a4a-ecc8-4855-f9cf-a005041267bf"
   },
   "outputs": [
    {
     "data": {
      "text/html": [
       "\n",
       "  <div id=\"df-d3fec822-6855-4452-95d3-908d0c5057b3\">\n",
       "    <div class=\"colab-df-container\">\n",
       "      <div>\n",
       "<style scoped>\n",
       "    .dataframe tbody tr th:only-of-type {\n",
       "        vertical-align: middle;\n",
       "    }\n",
       "\n",
       "    .dataframe tbody tr th {\n",
       "        vertical-align: top;\n",
       "    }\n",
       "\n",
       "    .dataframe thead th {\n",
       "        text-align: right;\n",
       "    }\n",
       "</style>\n",
       "<table border=\"1\" class=\"dataframe\">\n",
       "  <thead>\n",
       "    <tr style=\"text-align: right;\">\n",
       "      <th></th>\n",
       "      <th>title</th>\n",
       "      <th>price</th>\n",
       "      <th>course_effort</th>\n",
       "      <th>n_enrolled</th>\n",
       "      <th>institution</th>\n",
       "    </tr>\n",
       "  </thead>\n",
       "  <tbody>\n",
       "    <tr>\n",
       "      <th>0</th>\n",
       "      <td>Probability and Statistics in Data Science usi...</td>\n",
       "      <td>350.0</td>\n",
       "      <td>10–12 hours per week</td>\n",
       "      <td>106286</td>\n",
       "      <td>The University of California, San Diego</td>\n",
       "    </tr>\n",
       "    <tr>\n",
       "      <th>1</th>\n",
       "      <td>Analytics in Python</td>\n",
       "      <td>249.0</td>\n",
       "      <td>8–10 hours per week</td>\n",
       "      <td>82210</td>\n",
       "      <td>Columbia University</td>\n",
       "    </tr>\n",
       "    <tr>\n",
       "      <th>2</th>\n",
       "      <td>CS50's Introduction to Artificial Intelligence...</td>\n",
       "      <td>199.0</td>\n",
       "      <td>10–30 hours per week</td>\n",
       "      <td>258006</td>\n",
       "      <td>Harvard University</td>\n",
       "    </tr>\n",
       "    <tr>\n",
       "      <th>3</th>\n",
       "      <td>Data Science: Computational Thinking with Python</td>\n",
       "      <td>199.0</td>\n",
       "      <td>4–6 hours per week</td>\n",
       "      <td>78232</td>\n",
       "      <td>University of California, Berkeley</td>\n",
       "    </tr>\n",
       "    <tr>\n",
       "      <th>4</th>\n",
       "      <td>Estructuras de Datos con Python</td>\n",
       "      <td>49.0</td>\n",
       "      <td>2–4 hours per week</td>\n",
       "      <td>0</td>\n",
       "      <td>The University of Michigan</td>\n",
       "    </tr>\n",
       "    <tr>\n",
       "      <th>5</th>\n",
       "      <td>Advanced Algorithmics and Graph Theory with Py...</td>\n",
       "      <td>49.0</td>\n",
       "      <td>2–4 hours per week</td>\n",
       "      <td>13502</td>\n",
       "      <td>IMT</td>\n",
       "    </tr>\n",
       "    <tr>\n",
       "      <th>6</th>\n",
       "      <td>Analyzing Data with Python</td>\n",
       "      <td>39.0</td>\n",
       "      <td>2–4 hours per week</td>\n",
       "      <td>94079</td>\n",
       "      <td>IBM</td>\n",
       "    </tr>\n",
       "    <tr>\n",
       "      <th>7</th>\n",
       "      <td>Visualizing Data with Python</td>\n",
       "      <td>39.0</td>\n",
       "      <td>2–4 hours per week</td>\n",
       "      <td>42101</td>\n",
       "      <td>IBM</td>\n",
       "    </tr>\n",
       "  </tbody>\n",
       "</table>\n",
       "</div>\n",
       "      <button class=\"colab-df-convert\" onclick=\"convertToInteractive('df-d3fec822-6855-4452-95d3-908d0c5057b3')\"\n",
       "              title=\"Convert this dataframe to an interactive table.\"\n",
       "              style=\"display:none;\">\n",
       "        \n",
       "  <svg xmlns=\"http://www.w3.org/2000/svg\" height=\"24px\"viewBox=\"0 0 24 24\"\n",
       "       width=\"24px\">\n",
       "    <path d=\"M0 0h24v24H0V0z\" fill=\"none\"/>\n",
       "    <path d=\"M18.56 5.44l.94 2.06.94-2.06 2.06-.94-2.06-.94-.94-2.06-.94 2.06-2.06.94zm-11 1L8.5 8.5l.94-2.06 2.06-.94-2.06-.94L8.5 2.5l-.94 2.06-2.06.94zm10 10l.94 2.06.94-2.06 2.06-.94-2.06-.94-.94-2.06-.94 2.06-2.06.94z\"/><path d=\"M17.41 7.96l-1.37-1.37c-.4-.4-.92-.59-1.43-.59-.52 0-1.04.2-1.43.59L10.3 9.45l-7.72 7.72c-.78.78-.78 2.05 0 2.83L4 21.41c.39.39.9.59 1.41.59.51 0 1.02-.2 1.41-.59l7.78-7.78 2.81-2.81c.8-.78.8-2.07 0-2.86zM5.41 20L4 18.59l7.72-7.72 1.47 1.35L5.41 20z\"/>\n",
       "  </svg>\n",
       "      </button>\n",
       "      \n",
       "  <style>\n",
       "    .colab-df-container {\n",
       "      display:flex;\n",
       "      flex-wrap:wrap;\n",
       "      gap: 12px;\n",
       "    }\n",
       "\n",
       "    .colab-df-convert {\n",
       "      background-color: #E8F0FE;\n",
       "      border: none;\n",
       "      border-radius: 50%;\n",
       "      cursor: pointer;\n",
       "      display: none;\n",
       "      fill: #1967D2;\n",
       "      height: 32px;\n",
       "      padding: 0 0 0 0;\n",
       "      width: 32px;\n",
       "    }\n",
       "\n",
       "    .colab-df-convert:hover {\n",
       "      background-color: #E2EBFA;\n",
       "      box-shadow: 0px 1px 2px rgba(60, 64, 67, 0.3), 0px 1px 3px 1px rgba(60, 64, 67, 0.15);\n",
       "      fill: #174EA6;\n",
       "    }\n",
       "\n",
       "    [theme=dark] .colab-df-convert {\n",
       "      background-color: #3B4455;\n",
       "      fill: #D2E3FC;\n",
       "    }\n",
       "\n",
       "    [theme=dark] .colab-df-convert:hover {\n",
       "      background-color: #434B5C;\n",
       "      box-shadow: 0px 1px 3px 1px rgba(0, 0, 0, 0.15);\n",
       "      filter: drop-shadow(0px 1px 2px rgba(0, 0, 0, 0.3));\n",
       "      fill: #FFFFFF;\n",
       "    }\n",
       "  </style>\n",
       "\n",
       "      <script>\n",
       "        const buttonEl =\n",
       "          document.querySelector('#df-d3fec822-6855-4452-95d3-908d0c5057b3 button.colab-df-convert');\n",
       "        buttonEl.style.display =\n",
       "          google.colab.kernel.accessAllowed ? 'block' : 'none';\n",
       "\n",
       "        async function convertToInteractive(key) {\n",
       "          const element = document.querySelector('#df-d3fec822-6855-4452-95d3-908d0c5057b3');\n",
       "          const dataTable =\n",
       "            await google.colab.kernel.invokeFunction('convertToInteractive',\n",
       "                                                     [key], {});\n",
       "          if (!dataTable) return;\n",
       "\n",
       "          const docLinkHtml = 'Like what you see? Visit the ' +\n",
       "            '<a target=\"_blank\" href=https://colab.research.google.com/notebooks/data_table.ipynb>data table notebook</a>'\n",
       "            + ' to learn more about interactive tables.';\n",
       "          element.innerHTML = '';\n",
       "          dataTable['output_type'] = 'display_data';\n",
       "          await google.colab.output.renderOutput(dataTable, element);\n",
       "          const docLink = document.createElement('div');\n",
       "          docLink.innerHTML = docLinkHtml;\n",
       "          element.appendChild(docLink);\n",
       "        }\n",
       "      </script>\n",
       "    </div>\n",
       "  </div>\n",
       "  "
      ],
      "text/plain": [
       "                                               title  price  \\\n",
       "0  Probability and Statistics in Data Science usi...  350.0   \n",
       "1                                Analytics in Python  249.0   \n",
       "2  CS50's Introduction to Artificial Intelligence...  199.0   \n",
       "3   Data Science: Computational Thinking with Python  199.0   \n",
       "4                    Estructuras de Datos con Python   49.0   \n",
       "5  Advanced Algorithmics and Graph Theory with Py...   49.0   \n",
       "6                         Analyzing Data with Python   39.0   \n",
       "7                       Visualizing Data with Python   39.0   \n",
       "\n",
       "          course_effort  n_enrolled                              institution  \n",
       "0  10–12 hours per week      106286  The University of California, San Diego  \n",
       "1   8–10 hours per week       82210                      Columbia University  \n",
       "2  10–30 hours per week      258006                       Harvard University  \n",
       "3    4–6 hours per week       78232       University of California, Berkeley  \n",
       "4    2–4 hours per week           0               The University of Michigan  \n",
       "5    2–4 hours per week       13502                                      IMT  \n",
       "6    2–4 hours per week       94079                                      IBM  \n",
       "7    2–4 hours per week       42101                                      IBM  "
      ]
     },
     "execution_count": 57,
     "metadata": {},
     "output_type": "execute_result"
    }
   ],
   "source": [
    "data_analysis_python = pd.read_sql('''SELECT title, price, course_effort, n_enrolled, institution\n",
    "                                      FROM edx_courses\n",
    "                                      WHERE title LIKE '%Python'\n",
    "                                      ORDER BY price DESC''', edx_conn)\n",
    "data_analysis_python"
   ]
  },
  {
   "cell_type": "code",
   "execution_count": null,
   "metadata": {
    "colab": {
     "base_uri": "https://localhost:8080/",
     "height": 297
    },
    "id": "g2xLE2_tw_JG",
    "outputId": "eb243d7d-b3e9-4d2a-d7e1-2edf40e232eb"
   },
   "outputs": [
    {
     "data": {
      "text/plain": [
       "<matplotlib.axes._subplots.AxesSubplot at 0x7faea390fbe0>"
      ]
     },
     "execution_count": 58,
     "metadata": {},
     "output_type": "execute_result"
    },
    {
     "data": {
      "image/png": "[encoded data removed]",
      "text/plain": [
       "<Figure size 432x288 with 1 Axes>"
      ]
     },
     "metadata": {
      "needs_background": "light"
     },
     "output_type": "display_data"
    }
   ],
   "source": [
    "sns.barplot(x='n_enrolled', y='title', data=data_analysis_python, color='green', edgecolor='black')"
   ]
  },
  {
   "cell_type": "markdown",
   "metadata": {
    "id": "DlXh2UHU_V7u"
   },
   "source": [
    "As you can tell from the above diagram, the Spanish course did not have any enrolments due to the language barrier experienced. Or it might also mean that no Spanish-speaking individuals found or rather considered paying for it."
   ]
  },
  {
   "cell_type": "code",
   "execution_count": null,
   "metadata": {
    "colab": {
     "base_uri": "https://localhost:8080/",
     "height": 296
    },
    "id": "4H2GxEL-xku0",
    "outputId": "9438add1-21df-4a9b-c7a0-5686db95f9f4"
   },
   "outputs": [
    {
     "data": {
      "text/plain": [
       "<matplotlib.axes._subplots.AxesSubplot at 0x7faea3896130>"
      ]
     },
     "execution_count": 59,
     "metadata": {},
     "output_type": "execute_result"
    },
    {
     "data": {
      "image/png": "[encoded data removed]",
      "text/plain": [
       "<Figure size 432x288 with 1 Axes>"
      ]
     },
     "metadata": {
      "needs_background": "light"
     },
     "output_type": "display_data"
    }
   ],
   "source": [
    "sns.barplot(x='price', y='title', data=data_analysis_python, color='green', edgecolor='black')"
   ]
  },
  {
   "cell_type": "code",
   "execution_count": null,
   "metadata": {
    "colab": {
     "base_uri": "https://localhost:8080/",
     "height": 296
    },
    "id": "8LEL-xUOwGs7",
    "outputId": "c022ad3f-1ac8-43a8-89f0-725f98584716"
   },
   "outputs": [
    {
     "data": {
      "text/plain": [
       "<matplotlib.axes._subplots.AxesSubplot at 0x7faea3812100>"
      ]
     },
     "execution_count": 60,
     "metadata": {},
     "output_type": "execute_result"
    },
    {
     "data": {
      "image/png": "[encoded data removed]",
      "text/plain": [
       "<Figure size 432x288 with 1 Axes>"
      ]
     },
     "metadata": {
      "needs_background": "light"
     },
     "output_type": "display_data"
    }
   ],
   "source": [
    "sns.barplot(x='price', y='n_enrolled', data=data_analysis_python, color='green', edgecolor='black', alpha=0.8, ci=False)"
   ]
  },
  {
   "cell_type": "code",
   "execution_count": null,
   "metadata": {
    "colab": {
     "base_uri": "https://localhost:8080/",
     "height": 175
    },
    "id": "HlqvCi2JyorQ",
    "outputId": "3ee4f219-ff83-4164-afaf-864137a697fa"
   },
   "outputs": [
    {
     "data": {
      "text/html": [
       "\n",
       "  <div id=\"df-bc2a390d-2d52-4407-877d-b86fc632995e\">\n",
       "    <div class=\"colab-df-container\">\n",
       "      <div>\n",
       "<style scoped>\n",
       "    .dataframe tbody tr th:only-of-type {\n",
       "        vertical-align: middle;\n",
       "    }\n",
       "\n",
       "    .dataframe tbody tr th {\n",
       "        vertical-align: top;\n",
       "    }\n",
       "\n",
       "    .dataframe thead th {\n",
       "        text-align: right;\n",
       "    }\n",
       "</style>\n",
       "<table border=\"1\" class=\"dataframe\">\n",
       "  <thead>\n",
       "    <tr style=\"text-align: right;\">\n",
       "      <th></th>\n",
       "      <th>title</th>\n",
       "      <th>price</th>\n",
       "      <th>course_effort</th>\n",
       "      <th>n_enrolled</th>\n",
       "      <th>institution</th>\n",
       "    </tr>\n",
       "  </thead>\n",
       "  <tbody>\n",
       "    <tr>\n",
       "      <th>0</th>\n",
       "      <td>Basics of Computing and Programming</td>\n",
       "      <td>200.0</td>\n",
       "      <td>6–8 hours per week</td>\n",
       "      <td>37045</td>\n",
       "      <td>New York University</td>\n",
       "    </tr>\n",
       "    <tr>\n",
       "      <th>1</th>\n",
       "      <td>Object-Oriented Programming</td>\n",
       "      <td>149.0</td>\n",
       "      <td>6–8 hours per week</td>\n",
       "      <td>93633</td>\n",
       "      <td>IITBombay</td>\n",
       "    </tr>\n",
       "    <tr>\n",
       "      <th>2</th>\n",
       "      <td>Computing in Python I: Fundamentals and Proced...</td>\n",
       "      <td>99.0</td>\n",
       "      <td>9–10 hours per week</td>\n",
       "      <td>141966</td>\n",
       "      <td>The Georgia Institute of Technology</td>\n",
       "    </tr>\n",
       "    <tr>\n",
       "      <th>3</th>\n",
       "      <td>AI Chatbots without Programming</td>\n",
       "      <td>99.0</td>\n",
       "      <td>2–4 hours per week</td>\n",
       "      <td>35440</td>\n",
       "      <td>IBM</td>\n",
       "    </tr>\n",
       "  </tbody>\n",
       "</table>\n",
       "</div>\n",
       "      <button class=\"colab-df-convert\" onclick=\"convertToInteractive('df-bc2a390d-2d52-4407-877d-b86fc632995e')\"\n",
       "              title=\"Convert this dataframe to an interactive table.\"\n",
       "              style=\"display:none;\">\n",
       "        \n",
       "  <svg xmlns=\"http://www.w3.org/2000/svg\" height=\"24px\"viewBox=\"0 0 24 24\"\n",
       "       width=\"24px\">\n",
       "    <path d=\"M0 0h24v24H0V0z\" fill=\"none\"/>\n",
       "    <path d=\"M18.56 5.44l.94 2.06.94-2.06 2.06-.94-2.06-.94-.94-2.06-.94 2.06-2.06.94zm-11 1L8.5 8.5l.94-2.06 2.06-.94-2.06-.94L8.5 2.5l-.94 2.06-2.06.94zm10 10l.94 2.06.94-2.06 2.06-.94-2.06-.94-.94-2.06-.94 2.06-2.06.94z\"/><path d=\"M17.41 7.96l-1.37-1.37c-.4-.4-.92-.59-1.43-.59-.52 0-1.04.2-1.43.59L10.3 9.45l-7.72 7.72c-.78.78-.78 2.05 0 2.83L4 21.41c.39.39.9.59 1.41.59.51 0 1.02-.2 1.41-.59l7.78-7.78 2.81-2.81c.8-.78.8-2.07 0-2.86zM5.41 20L4 18.59l7.72-7.72 1.47 1.35L5.41 20z\"/>\n",
       "  </svg>\n",
       "      </button>\n",
       "      \n",
       "  <style>\n",
       "    .colab-df-container {\n",
       "      display:flex;\n",
       "      flex-wrap:wrap;\n",
       "      gap: 12px;\n",
       "    }\n",
       "\n",
       "    .colab-df-convert {\n",
       "      background-color: #E8F0FE;\n",
       "      border: none;\n",
       "      border-radius: 50%;\n",
       "      cursor: pointer;\n",
       "      display: none;\n",
       "      fill: #1967D2;\n",
       "      height: 32px;\n",
       "      padding: 0 0 0 0;\n",
       "      width: 32px;\n",
       "    }\n",
       "\n",
       "    .colab-df-convert:hover {\n",
       "      background-color: #E2EBFA;\n",
       "      box-shadow: 0px 1px 2px rgba(60, 64, 67, 0.3), 0px 1px 3px 1px rgba(60, 64, 67, 0.15);\n",
       "      fill: #174EA6;\n",
       "    }\n",
       "\n",
       "    [theme=dark] .colab-df-convert {\n",
       "      background-color: #3B4455;\n",
       "      fill: #D2E3FC;\n",
       "    }\n",
       "\n",
       "    [theme=dark] .colab-df-convert:hover {\n",
       "      background-color: #434B5C;\n",
       "      box-shadow: 0px 1px 3px 1px rgba(0, 0, 0, 0.15);\n",
       "      filter: drop-shadow(0px 1px 2px rgba(0, 0, 0, 0.3));\n",
       "      fill: #FFFFFF;\n",
       "    }\n",
       "  </style>\n",
       "\n",
       "      <script>\n",
       "        const buttonEl =\n",
       "          document.querySelector('#df-bc2a390d-2d52-4407-877d-b86fc632995e button.colab-df-convert');\n",
       "        buttonEl.style.display =\n",
       "          google.colab.kernel.accessAllowed ? 'block' : 'none';\n",
       "\n",
       "        async function convertToInteractive(key) {\n",
       "          const element = document.querySelector('#df-bc2a390d-2d52-4407-877d-b86fc632995e');\n",
       "          const dataTable =\n",
       "            await google.colab.kernel.invokeFunction('convertToInteractive',\n",
       "                                                     [key], {});\n",
       "          if (!dataTable) return;\n",
       "\n",
       "          const docLinkHtml = 'Like what you see? Visit the ' +\n",
       "            '<a target=\"_blank\" href=https://colab.research.google.com/notebooks/data_table.ipynb>data table notebook</a>'\n",
       "            + ' to learn more about interactive tables.';\n",
       "          element.innerHTML = '';\n",
       "          dataTable['output_type'] = 'display_data';\n",
       "          await google.colab.output.renderOutput(dataTable, element);\n",
       "          const docLink = document.createElement('div');\n",
       "          docLink.innerHTML = docLinkHtml;\n",
       "          element.appendChild(docLink);\n",
       "        }\n",
       "      </script>\n",
       "    </div>\n",
       "  </div>\n",
       "  "
      ],
      "text/plain": [
       "                                               title  price  \\\n",
       "0                Basics of Computing and Programming  200.0   \n",
       "1                        Object-Oriented Programming  149.0   \n",
       "2  Computing in Python I: Fundamentals and Proced...   99.0   \n",
       "3                    AI Chatbots without Programming   99.0   \n",
       "\n",
       "         course_effort  n_enrolled                          institution  \n",
       "0   6–8 hours per week       37045                  New York University  \n",
       "1   6–8 hours per week       93633                            IITBombay  \n",
       "2  9–10 hours per week      141966  The Georgia Institute of Technology  \n",
       "3   2–4 hours per week       35440                                  IBM  "
      ]
     },
     "execution_count": 62,
     "metadata": {},
     "output_type": "execute_result"
    }
   ],
   "source": [
    "data_analysis_programming = pd.read_sql('''SELECT title, price, course_effort, n_enrolled, institution\n",
    "                                           FROM edx_courses\n",
    "                                           WHERE title LIKE '%Programming'\n",
    "                                           ORDER BY price DESC''', edx_conn)\n",
    "data_analysis_programming"
   ]
  },
  {
   "cell_type": "code",
   "execution_count": null,
   "metadata": {
    "colab": {
     "base_uri": "https://localhost:8080/",
     "height": 175
    },
    "id": "jjXmmLAyiy-O",
    "outputId": "83fb701b-26c8-418a-8e29-d305cffd8ef5"
   },
   "outputs": [
    {
     "data": {
      "text/html": [
       "\n",
       "  <div id=\"df-a56af0cf-5185-4da3-b5f8-3cdadd159d8f\">\n",
       "    <div class=\"colab-df-container\">\n",
       "      <div>\n",
       "<style scoped>\n",
       "    .dataframe tbody tr th:only-of-type {\n",
       "        vertical-align: middle;\n",
       "    }\n",
       "\n",
       "    .dataframe tbody tr th {\n",
       "        vertical-align: top;\n",
       "    }\n",
       "\n",
       "    .dataframe thead th {\n",
       "        text-align: right;\n",
       "    }\n",
       "</style>\n",
       "<table border=\"1\" class=\"dataframe\">\n",
       "  <thead>\n",
       "    <tr style=\"text-align: right;\">\n",
       "      <th></th>\n",
       "      <th>title</th>\n",
       "      <th>price</th>\n",
       "      <th>course_effort</th>\n",
       "      <th>n_enrolled</th>\n",
       "      <th>institution</th>\n",
       "    </tr>\n",
       "  </thead>\n",
       "  <tbody>\n",
       "    <tr>\n",
       "      <th>0</th>\n",
       "      <td>BioStatistics</td>\n",
       "      <td>79.0</td>\n",
       "      <td>5–10 hours per week</td>\n",
       "      <td>14937</td>\n",
       "      <td>Doane University</td>\n",
       "    </tr>\n",
       "    <tr>\n",
       "      <th>1</th>\n",
       "      <td>MathTrackX: Statistics</td>\n",
       "      <td>79.0</td>\n",
       "      <td>3–6 hours per week</td>\n",
       "      <td>0</td>\n",
       "      <td>University of Adelaide</td>\n",
       "    </tr>\n",
       "    <tr>\n",
       "      <th>2</th>\n",
       "      <td>Compilation Basics for Macroeconomic Statistics</td>\n",
       "      <td>25.0</td>\n",
       "      <td>3–6 hours per week</td>\n",
       "      <td>6570</td>\n",
       "      <td>The International Monetary Fund</td>\n",
       "    </tr>\n",
       "    <tr>\n",
       "      <th>3</th>\n",
       "      <td>Public Sector Debt Statistics</td>\n",
       "      <td>25.0</td>\n",
       "      <td>6–8 hours per week</td>\n",
       "      <td>0</td>\n",
       "      <td>The International Monetary Fund</td>\n",
       "    </tr>\n",
       "  </tbody>\n",
       "</table>\n",
       "</div>\n",
       "      <button class=\"colab-df-convert\" onclick=\"convertToInteractive('df-a56af0cf-5185-4da3-b5f8-3cdadd159d8f')\"\n",
       "              title=\"Convert this dataframe to an interactive table.\"\n",
       "              style=\"display:none;\">\n",
       "        \n",
       "  <svg xmlns=\"http://www.w3.org/2000/svg\" height=\"24px\"viewBox=\"0 0 24 24\"\n",
       "       width=\"24px\">\n",
       "    <path d=\"M0 0h24v24H0V0z\" fill=\"none\"/>\n",
       "    <path d=\"M18.56 5.44l.94 2.06.94-2.06 2.06-.94-2.06-.94-.94-2.06-.94 2.06-2.06.94zm-11 1L8.5 8.5l.94-2.06 2.06-.94-2.06-.94L8.5 2.5l-.94 2.06-2.06.94zm10 10l.94 2.06.94-2.06 2.06-.94-2.06-.94-.94-2.06-.94 2.06-2.06.94z\"/><path d=\"M17.41 7.96l-1.37-1.37c-.4-.4-.92-.59-1.43-.59-.52 0-1.04.2-1.43.59L10.3 9.45l-7.72 7.72c-.78.78-.78 2.05 0 2.83L4 21.41c.39.39.9.59 1.41.59.51 0 1.02-.2 1.41-.59l7.78-7.78 2.81-2.81c.8-.78.8-2.07 0-2.86zM5.41 20L4 18.59l7.72-7.72 1.47 1.35L5.41 20z\"/>\n",
       "  </svg>\n",
       "      </button>\n",
       "      \n",
       "  <style>\n",
       "    .colab-df-container {\n",
       "      display:flex;\n",
       "      flex-wrap:wrap;\n",
       "      gap: 12px;\n",
       "    }\n",
       "\n",
       "    .colab-df-convert {\n",
       "      background-color: #E8F0FE;\n",
       "      border: none;\n",
       "      border-radius: 50%;\n",
       "      cursor: pointer;\n",
       "      display: none;\n",
       "      fill: #1967D2;\n",
       "      height: 32px;\n",
       "      padding: 0 0 0 0;\n",
       "      width: 32px;\n",
       "    }\n",
       "\n",
       "    .colab-df-convert:hover {\n",
       "      background-color: #E2EBFA;\n",
       "      box-shadow: 0px 1px 2px rgba(60, 64, 67, 0.3), 0px 1px 3px 1px rgba(60, 64, 67, 0.15);\n",
       "      fill: #174EA6;\n",
       "    }\n",
       "\n",
       "    [theme=dark] .colab-df-convert {\n",
       "      background-color: #3B4455;\n",
       "      fill: #D2E3FC;\n",
       "    }\n",
       "\n",
       "    [theme=dark] .colab-df-convert:hover {\n",
       "      background-color: #434B5C;\n",
       "      box-shadow: 0px 1px 3px 1px rgba(0, 0, 0, 0.15);\n",
       "      filter: drop-shadow(0px 1px 2px rgba(0, 0, 0, 0.3));\n",
       "      fill: #FFFFFF;\n",
       "    }\n",
       "  </style>\n",
       "\n",
       "      <script>\n",
       "        const buttonEl =\n",
       "          document.querySelector('#df-a56af0cf-5185-4da3-b5f8-3cdadd159d8f button.colab-df-convert');\n",
       "        buttonEl.style.display =\n",
       "          google.colab.kernel.accessAllowed ? 'block' : 'none';\n",
       "\n",
       "        async function convertToInteractive(key) {\n",
       "          const element = document.querySelector('#df-a56af0cf-5185-4da3-b5f8-3cdadd159d8f');\n",
       "          const dataTable =\n",
       "            await google.colab.kernel.invokeFunction('convertToInteractive',\n",
       "                                                     [key], {});\n",
       "          if (!dataTable) return;\n",
       "\n",
       "          const docLinkHtml = 'Like what you see? Visit the ' +\n",
       "            '<a target=\"_blank\" href=https://colab.research.google.com/notebooks/data_table.ipynb>data table notebook</a>'\n",
       "            + ' to learn more about interactive tables.';\n",
       "          element.innerHTML = '';\n",
       "          dataTable['output_type'] = 'display_data';\n",
       "          await google.colab.output.renderOutput(dataTable, element);\n",
       "          const docLink = document.createElement('div');\n",
       "          docLink.innerHTML = docLinkHtml;\n",
       "          element.appendChild(docLink);\n",
       "        }\n",
       "      </script>\n",
       "    </div>\n",
       "  </div>\n",
       "  "
      ],
      "text/plain": [
       "                                             title  price  \\\n",
       "0                                    BioStatistics   79.0   \n",
       "1                           MathTrackX: Statistics   79.0   \n",
       "2  Compilation Basics for Macroeconomic Statistics   25.0   \n",
       "3                    Public Sector Debt Statistics   25.0   \n",
       "\n",
       "         course_effort  n_enrolled                      institution  \n",
       "0  5–10 hours per week       14937                 Doane University  \n",
       "1   3–6 hours per week           0           University of Adelaide  \n",
       "2   3–6 hours per week        6570  The International Monetary Fund  \n",
       "3   6–8 hours per week           0  The International Monetary Fund  "
      ]
     },
     "execution_count": 63,
     "metadata": {},
     "output_type": "execute_result"
    }
   ],
   "source": [
    "data_analysis_statistics = pd.read_sql('''SELECT title, price, course_effort, n_enrolled, institution\n",
    "                                          FROM edx_courses\n",
    "                                          WHERE title LIKE '%Statistics'\n",
    "                                          ORDER BY price DESC''', edx_conn)\n",
    "data_analysis_statistics"
   ]
  },
  {
   "cell_type": "code",
   "execution_count": null,
   "metadata": {
    "colab": {
     "base_uri": "https://localhost:8080/",
     "height": 175
    },
    "id": "uECVS9N8jfLw",
    "outputId": "1be4838f-d946-4117-be61-d5745c32e3e0"
   },
   "outputs": [
    {
     "data": {
      "text/html": [
       "\n",
       "  <div id=\"df-c7d2bd96-daab-484e-83b7-008d873d5057\">\n",
       "    <div class=\"colab-df-container\">\n",
       "      <div>\n",
       "<style scoped>\n",
       "    .dataframe tbody tr th:only-of-type {\n",
       "        vertical-align: middle;\n",
       "    }\n",
       "\n",
       "    .dataframe tbody tr th {\n",
       "        vertical-align: top;\n",
       "    }\n",
       "\n",
       "    .dataframe thead th {\n",
       "        text-align: right;\n",
       "    }\n",
       "</style>\n",
       "<table border=\"1\" class=\"dataframe\">\n",
       "  <thead>\n",
       "    <tr style=\"text-align: right;\">\n",
       "      <th></th>\n",
       "      <th>title</th>\n",
       "      <th>price</th>\n",
       "      <th>course_effort</th>\n",
       "      <th>n_enrolled</th>\n",
       "      <th>institution</th>\n",
       "    </tr>\n",
       "  </thead>\n",
       "  <tbody>\n",
       "    <tr>\n",
       "      <th>0</th>\n",
       "      <td>Probability and Statistics I:  A Gentle Introd...</td>\n",
       "      <td>199.0</td>\n",
       "      <td>6–10 hours per week</td>\n",
       "      <td>0</td>\n",
       "      <td>The Georgia Institute of Technology</td>\n",
       "    </tr>\n",
       "    <tr>\n",
       "      <th>1</th>\n",
       "      <td>Introduction to Probability</td>\n",
       "      <td>99.0</td>\n",
       "      <td>5–10 hours per week</td>\n",
       "      <td>97291</td>\n",
       "      <td>Harvard University</td>\n",
       "    </tr>\n",
       "    <tr>\n",
       "      <th>2</th>\n",
       "      <td>Introduction to Probability</td>\n",
       "      <td>99.0</td>\n",
       "      <td>5–10 hours per week</td>\n",
       "      <td>97291</td>\n",
       "      <td>Harvard University</td>\n",
       "    </tr>\n",
       "    <tr>\n",
       "      <th>3</th>\n",
       "      <td>Data Science: Probability</td>\n",
       "      <td>49.0</td>\n",
       "      <td>1–2 hours per week</td>\n",
       "      <td>135859</td>\n",
       "      <td>Harvard University</td>\n",
       "    </tr>\n",
       "  </tbody>\n",
       "</table>\n",
       "</div>\n",
       "      <button class=\"colab-df-convert\" onclick=\"convertToInteractive('df-c7d2bd96-daab-484e-83b7-008d873d5057')\"\n",
       "              title=\"Convert this dataframe to an interactive table.\"\n",
       "              style=\"display:none;\">\n",
       "        \n",
       "  <svg xmlns=\"http://www.w3.org/2000/svg\" height=\"24px\"viewBox=\"0 0 24 24\"\n",
       "       width=\"24px\">\n",
       "    <path d=\"M0 0h24v24H0V0z\" fill=\"none\"/>\n",
       "    <path d=\"M18.56 5.44l.94 2.06.94-2.06 2.06-.94-2.06-.94-.94-2.06-.94 2.06-2.06.94zm-11 1L8.5 8.5l.94-2.06 2.06-.94-2.06-.94L8.5 2.5l-.94 2.06-2.06.94zm10 10l.94 2.06.94-2.06 2.06-.94-2.06-.94-.94-2.06-.94 2.06-2.06.94z\"/><path d=\"M17.41 7.96l-1.37-1.37c-.4-.4-.92-.59-1.43-.59-.52 0-1.04.2-1.43.59L10.3 9.45l-7.72 7.72c-.78.78-.78 2.05 0 2.83L4 21.41c.39.39.9.59 1.41.59.51 0 1.02-.2 1.41-.59l7.78-7.78 2.81-2.81c.8-.78.8-2.07 0-2.86zM5.41 20L4 18.59l7.72-7.72 1.47 1.35L5.41 20z\"/>\n",
       "  </svg>\n",
       "      </button>\n",
       "      \n",
       "  <style>\n",
       "    .colab-df-container {\n",
       "      display:flex;\n",
       "      flex-wrap:wrap;\n",
       "      gap: 12px;\n",
       "    }\n",
       "\n",
       "    .colab-df-convert {\n",
       "      background-color: #E8F0FE;\n",
       "      border: none;\n",
       "      border-radius: 50%;\n",
       "      cursor: pointer;\n",
       "      display: none;\n",
       "      fill: #1967D2;\n",
       "      height: 32px;\n",
       "      padding: 0 0 0 0;\n",
       "      width: 32px;\n",
       "    }\n",
       "\n",
       "    .colab-df-convert:hover {\n",
       "      background-color: #E2EBFA;\n",
       "      box-shadow: 0px 1px 2px rgba(60, 64, 67, 0.3), 0px 1px 3px 1px rgba(60, 64, 67, 0.15);\n",
       "      fill: #174EA6;\n",
       "    }\n",
       "\n",
       "    [theme=dark] .colab-df-convert {\n",
       "      background-color: #3B4455;\n",
       "      fill: #D2E3FC;\n",
       "    }\n",
       "\n",
       "    [theme=dark] .colab-df-convert:hover {\n",
       "      background-color: #434B5C;\n",
       "      box-shadow: 0px 1px 3px 1px rgba(0, 0, 0, 0.15);\n",
       "      filter: drop-shadow(0px 1px 2px rgba(0, 0, 0, 0.3));\n",
       "      fill: #FFFFFF;\n",
       "    }\n",
       "  </style>\n",
       "\n",
       "      <script>\n",
       "        const buttonEl =\n",
       "          document.querySelector('#df-c7d2bd96-daab-484e-83b7-008d873d5057 button.colab-df-convert');\n",
       "        buttonEl.style.display =\n",
       "          google.colab.kernel.accessAllowed ? 'block' : 'none';\n",
       "\n",
       "        async function convertToInteractive(key) {\n",
       "          const element = document.querySelector('#df-c7d2bd96-daab-484e-83b7-008d873d5057');\n",
       "          const dataTable =\n",
       "            await google.colab.kernel.invokeFunction('convertToInteractive',\n",
       "                                                     [key], {});\n",
       "          if (!dataTable) return;\n",
       "\n",
       "          const docLinkHtml = 'Like what you see? Visit the ' +\n",
       "            '<a target=\"_blank\" href=https://colab.research.google.com/notebooks/data_table.ipynb>data table notebook</a>'\n",
       "            + ' to learn more about interactive tables.';\n",
       "          element.innerHTML = '';\n",
       "          dataTable['output_type'] = 'display_data';\n",
       "          await google.colab.output.renderOutput(dataTable, element);\n",
       "          const docLink = document.createElement('div');\n",
       "          docLink.innerHTML = docLinkHtml;\n",
       "          element.appendChild(docLink);\n",
       "        }\n",
       "      </script>\n",
       "    </div>\n",
       "  </div>\n",
       "  "
      ],
      "text/plain": [
       "                                               title  price  \\\n",
       "0  Probability and Statistics I:  A Gentle Introd...  199.0   \n",
       "1                        Introduction to Probability   99.0   \n",
       "2                        Introduction to Probability   99.0   \n",
       "3                          Data Science: Probability   49.0   \n",
       "\n",
       "         course_effort  n_enrolled                          institution  \n",
       "0  6–10 hours per week           0  The Georgia Institute of Technology  \n",
       "1  5–10 hours per week       97291                   Harvard University  \n",
       "2  5–10 hours per week       97291                   Harvard University  \n",
       "3   1–2 hours per week      135859                   Harvard University  "
      ]
     },
     "execution_count": 65,
     "metadata": {},
     "output_type": "execute_result"
    }
   ],
   "source": [
    "data_analysis_probability = pd.read_sql('''SELECT title, price, course_effort, n_enrolled, institution\n",
    "                                           FROM edx_courses\n",
    "                                           WHERE title LIKE '%Probability' AND title NOT LIKE '%MathTrackX: Probability'\n",
    "                                           ORDER BY price DESC''', edx_conn)\n",
    "data_analysis_probability"
   ]
  },
  {
   "cell_type": "markdown",
   "metadata": {
    "id": "cf-BTPEMkxCp"
   },
   "source": [
    "## SUBJECT: COMPUTER SCIENCE"
   ]
  },
  {
   "cell_type": "code",
   "execution_count": null,
   "metadata": {
    "colab": {
     "base_uri": "https://localhost:8080/"
    },
    "id": "OAyXupjPkFZl",
    "outputId": "c4e5f3cc-2515-4d66-fe1e-e33bc2384de4"
   },
   "outputs": [
    {
     "data": {
      "text/html": [
       "\n",
       "  <div id=\"df-baca3f6f-b94e-4532-a48a-daaa68211664\">\n",
       "    <div class=\"colab-df-container\">\n",
       "      <div>\n",
       "<style scoped>\n",
       "    .dataframe tbody tr th:only-of-type {\n",
       "        vertical-align: middle;\n",
       "    }\n",
       "\n",
       "    .dataframe tbody tr th {\n",
       "        vertical-align: top;\n",
       "    }\n",
       "\n",
       "    .dataframe thead th {\n",
       "        text-align: right;\n",
       "    }\n",
       "</style>\n",
       "<table border=\"1\" class=\"dataframe\">\n",
       "  <thead>\n",
       "    <tr style=\"text-align: right;\">\n",
       "      <th></th>\n",
       "      <th>title</th>\n",
       "      <th>price</th>\n",
       "      <th>course_effort</th>\n",
       "      <th>n_enrolled</th>\n",
       "      <th>institution</th>\n",
       "    </tr>\n",
       "  </thead>\n",
       "  <tbody>\n",
       "    <tr>\n",
       "      <th>0</th>\n",
       "      <td>Information Technology Foundations</td>\n",
       "      <td>399.6</td>\n",
       "      <td>9–10 hours per week</td>\n",
       "      <td>6388</td>\n",
       "      <td>Western Governors University</td>\n",
       "    </tr>\n",
       "    <tr>\n",
       "      <th>1</th>\n",
       "      <td>Driving Digital Innovation through Experimenta...</td>\n",
       "      <td>399.0</td>\n",
       "      <td>3–5 hours per week</td>\n",
       "      <td>16904</td>\n",
       "      <td>Boston University</td>\n",
       "    </tr>\n",
       "    <tr>\n",
       "      <th>2</th>\n",
       "      <td>Machine Learning with Python: from Linear Mode...</td>\n",
       "      <td>300.0</td>\n",
       "      <td>10–14 hours per week</td>\n",
       "      <td>85561</td>\n",
       "      <td>Massachusetts Institute of Technology</td>\n",
       "    </tr>\n",
       "    <tr>\n",
       "      <th>3</th>\n",
       "      <td>Network and Security Foundations</td>\n",
       "      <td>299.7</td>\n",
       "      <td>9–10 hours per week</td>\n",
       "      <td>7301</td>\n",
       "      <td>Western Governors University</td>\n",
       "    </tr>\n",
       "    <tr>\n",
       "      <th>4</th>\n",
       "      <td>Scripting and Programming Foundations</td>\n",
       "      <td>299.7</td>\n",
       "      <td>9–10 hours per week</td>\n",
       "      <td>0</td>\n",
       "      <td>Western Governors University</td>\n",
       "    </tr>\n",
       "    <tr>\n",
       "      <th>5</th>\n",
       "      <td>Cloud Computing for Enterprises</td>\n",
       "      <td>299.0</td>\n",
       "      <td>8–10 hours per week</td>\n",
       "      <td>27241</td>\n",
       "      <td>University System of Maryland-University of Ma...</td>\n",
       "    </tr>\n",
       "    <tr>\n",
       "      <th>6</th>\n",
       "      <td>Marketing Analytics: Marketing Measurement Str...</td>\n",
       "      <td>249.0</td>\n",
       "      <td>5–7 hours per week</td>\n",
       "      <td>81140</td>\n",
       "      <td>University of California, Berkeley</td>\n",
       "    </tr>\n",
       "    <tr>\n",
       "      <th>7</th>\n",
       "      <td>Marketing Analytics: Competitive Analysis and ...</td>\n",
       "      <td>249.0</td>\n",
       "      <td>5–7 hours per week</td>\n",
       "      <td>70682</td>\n",
       "      <td>University of California, Berkeley</td>\n",
       "    </tr>\n",
       "    <tr>\n",
       "      <th>8</th>\n",
       "      <td>Artificial Intelligence (AI)</td>\n",
       "      <td>249.0</td>\n",
       "      <td>8–10 hours per week</td>\n",
       "      <td>265104</td>\n",
       "      <td>Columbia University</td>\n",
       "    </tr>\n",
       "    <tr>\n",
       "      <th>9</th>\n",
       "      <td>Machine Learning</td>\n",
       "      <td>249.0</td>\n",
       "      <td>8–10 hours per week</td>\n",
       "      <td>150855</td>\n",
       "      <td>Columbia University</td>\n",
       "    </tr>\n",
       "    <tr>\n",
       "      <th>10</th>\n",
       "      <td>Marketing Analytics: Products, Distribution an...</td>\n",
       "      <td>249.0</td>\n",
       "      <td>5–7 hours per week</td>\n",
       "      <td>50588</td>\n",
       "      <td>University of California, Berkeley</td>\n",
       "    </tr>\n",
       "    <tr>\n",
       "      <th>11</th>\n",
       "      <td>Robotics</td>\n",
       "      <td>249.0</td>\n",
       "      <td>8–10 hours per week</td>\n",
       "      <td>68199</td>\n",
       "      <td>Columbia University</td>\n",
       "    </tr>\n",
       "    <tr>\n",
       "      <th>12</th>\n",
       "      <td>Animation and CGI Motion</td>\n",
       "      <td>249.0</td>\n",
       "      <td>8–10 hours per week</td>\n",
       "      <td>36827</td>\n",
       "      <td>Columbia University</td>\n",
       "    </tr>\n",
       "    <tr>\n",
       "      <th>13</th>\n",
       "      <td>Marketing Analytics: Price and Promotion Analy...</td>\n",
       "      <td>249.0</td>\n",
       "      <td>5–7 hours per week</td>\n",
       "      <td>41021</td>\n",
       "      <td>University of California, Berkeley</td>\n",
       "    </tr>\n",
       "    <tr>\n",
       "      <th>14</th>\n",
       "      <td>Basics of Computing and Programming</td>\n",
       "      <td>200.0</td>\n",
       "      <td>6–8 hours per week</td>\n",
       "      <td>37045</td>\n",
       "      <td>New York University</td>\n",
       "    </tr>\n",
       "  </tbody>\n",
       "</table>\n",
       "</div>\n",
       "      <button class=\"colab-df-convert\" onclick=\"convertToInteractive('df-baca3f6f-b94e-4532-a48a-daaa68211664')\"\n",
       "              title=\"Convert this dataframe to an interactive table.\"\n",
       "              style=\"display:none;\">\n",
       "        \n",
       "  <svg xmlns=\"http://www.w3.org/2000/svg\" height=\"24px\"viewBox=\"0 0 24 24\"\n",
       "       width=\"24px\">\n",
       "    <path d=\"M0 0h24v24H0V0z\" fill=\"none\"/>\n",
       "    <path d=\"M18.56 5.44l.94 2.06.94-2.06 2.06-.94-2.06-.94-.94-2.06-.94 2.06-2.06.94zm-11 1L8.5 8.5l.94-2.06 2.06-.94-2.06-.94L8.5 2.5l-.94 2.06-2.06.94zm10 10l.94 2.06.94-2.06 2.06-.94-2.06-.94-.94-2.06-.94 2.06-2.06.94z\"/><path d=\"M17.41 7.96l-1.37-1.37c-.4-.4-.92-.59-1.43-.59-.52 0-1.04.2-1.43.59L10.3 9.45l-7.72 7.72c-.78.78-.78 2.05 0 2.83L4 21.41c.39.39.9.59 1.41.59.51 0 1.02-.2 1.41-.59l7.78-7.78 2.81-2.81c.8-.78.8-2.07 0-2.86zM5.41 20L4 18.59l7.72-7.72 1.47 1.35L5.41 20z\"/>\n",
       "  </svg>\n",
       "      </button>\n",
       "      \n",
       "  <style>\n",
       "    .colab-df-container {\n",
       "      display:flex;\n",
       "      flex-wrap:wrap;\n",
       "      gap: 12px;\n",
       "    }\n",
       "\n",
       "    .colab-df-convert {\n",
       "      background-color: #E8F0FE;\n",
       "      border: none;\n",
       "      border-radius: 50%;\n",
       "      cursor: pointer;\n",
       "      display: none;\n",
       "      fill: #1967D2;\n",
       "      height: 32px;\n",
       "      padding: 0 0 0 0;\n",
       "      width: 32px;\n",
       "    }\n",
       "\n",
       "    .colab-df-convert:hover {\n",
       "      background-color: #E2EBFA;\n",
       "      box-shadow: 0px 1px 2px rgba(60, 64, 67, 0.3), 0px 1px 3px 1px rgba(60, 64, 67, 0.15);\n",
       "      fill: #174EA6;\n",
       "    }\n",
       "\n",
       "    [theme=dark] .colab-df-convert {\n",
       "      background-color: #3B4455;\n",
       "      fill: #D2E3FC;\n",
       "    }\n",
       "\n",
       "    [theme=dark] .colab-df-convert:hover {\n",
       "      background-color: #434B5C;\n",
       "      box-shadow: 0px 1px 3px 1px rgba(0, 0, 0, 0.15);\n",
       "      filter: drop-shadow(0px 1px 2px rgba(0, 0, 0, 0.3));\n",
       "      fill: #FFFFFF;\n",
       "    }\n",
       "  </style>\n",
       "\n",
       "      <script>\n",
       "        const buttonEl =\n",
       "          document.querySelector('#df-baca3f6f-b94e-4532-a48a-daaa68211664 button.colab-df-convert');\n",
       "        buttonEl.style.display =\n",
       "          google.colab.kernel.accessAllowed ? 'block' : 'none';\n",
       "\n",
       "        async function convertToInteractive(key) {\n",
       "          const element = document.querySelector('#df-baca3f6f-b94e-4532-a48a-daaa68211664');\n",
       "          const dataTable =\n",
       "            await google.colab.kernel.invokeFunction('convertToInteractive',\n",
       "                                                     [key], {});\n",
       "          if (!dataTable) return;\n",
       "\n",
       "          const docLinkHtml = 'Like what you see? Visit the ' +\n",
       "            '<a target=\"_blank\" href=https://colab.research.google.com/notebooks/data_table.ipynb>data table notebook</a>'\n",
       "            + ' to learn more about interactive tables.';\n",
       "          element.innerHTML = '';\n",
       "          dataTable['output_type'] = 'display_data';\n",
       "          await google.colab.output.renderOutput(dataTable, element);\n",
       "          const docLink = document.createElement('div');\n",
       "          docLink.innerHTML = docLinkHtml;\n",
       "          element.appendChild(docLink);\n",
       "        }\n",
       "      </script>\n",
       "    </div>\n",
       "  </div>\n",
       "  "
      ],
      "text/plain": [
       "                                                title  price  \\\n",
       "0                  Information Technology Foundations  399.6   \n",
       "1   Driving Digital Innovation through Experimenta...  399.0   \n",
       "2   Machine Learning with Python: from Linear Mode...  300.0   \n",
       "3                    Network and Security Foundations  299.7   \n",
       "4               Scripting and Programming Foundations  299.7   \n",
       "5                     Cloud Computing for Enterprises  299.0   \n",
       "6   Marketing Analytics: Marketing Measurement Str...  249.0   \n",
       "7   Marketing Analytics: Competitive Analysis and ...  249.0   \n",
       "8                        Artificial Intelligence (AI)  249.0   \n",
       "9                                    Machine Learning  249.0   \n",
       "10  Marketing Analytics: Products, Distribution an...  249.0   \n",
       "11                                           Robotics  249.0   \n",
       "12                           Animation and CGI Motion  249.0   \n",
       "13  Marketing Analytics: Price and Promotion Analy...  249.0   \n",
       "14                Basics of Computing and Programming  200.0   \n",
       "\n",
       "           course_effort  n_enrolled  \\\n",
       "0    9–10 hours per week        6388   \n",
       "1     3–5 hours per week       16904   \n",
       "2   10–14 hours per week       85561   \n",
       "3    9–10 hours per week        7301   \n",
       "4    9–10 hours per week           0   \n",
       "5    8–10 hours per week       27241   \n",
       "6     5–7 hours per week       81140   \n",
       "7     5–7 hours per week       70682   \n",
       "8    8–10 hours per week      265104   \n",
       "9    8–10 hours per week      150855   \n",
       "10    5–7 hours per week       50588   \n",
       "11   8–10 hours per week       68199   \n",
       "12   8–10 hours per week       36827   \n",
       "13    5–7 hours per week       41021   \n",
       "14    6–8 hours per week       37045   \n",
       "\n",
       "                                          institution  \n",
       "0                        Western Governors University  \n",
       "1                                   Boston University  \n",
       "2               Massachusetts Institute of Technology  \n",
       "3                        Western Governors University  \n",
       "4                        Western Governors University  \n",
       "5   University System of Maryland-University of Ma...  \n",
       "6                  University of California, Berkeley  \n",
       "7                  University of California, Berkeley  \n",
       "8                                 Columbia University  \n",
       "9                                 Columbia University  \n",
       "10                 University of California, Berkeley  \n",
       "11                                Columbia University  \n",
       "12                                Columbia University  \n",
       "13                 University of California, Berkeley  \n",
       "14                                New York University  "
      ]
     },
     "execution_count": 66,
     "metadata": {},
     "output_type": "execute_result"
    }
   ],
   "source": [
    "comp_sci_query = pd.read_sql('''SELECT title, price, course_effort, n_enrolled, institution\n",
    "                                FROM edx_courses\n",
    "                                WHERE subject = 'Computer Science'\n",
    "                                ORDER BY price DESC LIMIT 15''', edx_conn)\n",
    "comp_sci_query"
   ]
  },
  {
   "cell_type": "code",
   "execution_count": null,
   "metadata": {
    "id": "s-XAtXGrlWWc"
   },
   "outputs": [],
   "source": []
  }
 ],
 "metadata": {
  "colab": {
   "provenance": []
  },
  "kernelspec": {
   "display_name": "Python 3",
   "language": "python",
   "name": "python3"
  },
  "language_info": {
   "codemirror_mode": {
    "name": "ipython",
    "version": 3
   },
   "file_extension": ".py",
   "mimetype": "text/x-python",
   "name": "python",
   "nbconvert_exporter": "python",
   "pygments_lexer": "ipython3",
   "version": "3.8.8"
  }
 },
 "nbformat": 4,
 "nbformat_minor": 1
}
