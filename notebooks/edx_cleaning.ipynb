{
 "cells": [
  {
   "attachments": {},
   "cell_type": "markdown",
   "metadata": {
    "id": "WVUPbqFJoJ56"
   },
   "source": [
    "# EDX Dashboard Backend (EDA)⛏:\n",
    "This is a Jupyter Notebook file that features the exploratory data analysis (EDA) steps taken to create the CSV files and SQL queries that fuel the Udemy Dashboard. The tools used include Python and SQL Lite."
   ]
  },
  {
   "cell_type": "code",
   "execution_count": 2,
   "metadata": {
    "id": "KTOmBURbkagN"
   },
   "outputs": [],
   "source": [
    "import sqlite3\n",
    "from pathlib import Path\n",
    "\n",
    "import pandas as pd\n",
    "import numpy as np\n",
    "import matplotlib.pyplot as plt\n",
    "import seaborn as sns"
   ]
  },
  {
   "cell_type": "code",
   "execution_count": 3,
   "metadata": {
    "colab": {
     "base_uri": "https://localhost:8080/",
     "height": 416
    },
    "id": "_x0P5SbukjXY",
    "outputId": "13a109c2-e1fc-4534-8cb3-13233a7ba5c9"
   },
   "outputs": [
    {
     "data": {
      "text/html": [
       "<div>\n",
       "<style scoped>\n",
       "    .dataframe tbody tr th:only-of-type {\n",
       "        vertical-align: middle;\n",
       "    }\n",
       "\n",
       "    .dataframe tbody tr th {\n",
       "        vertical-align: top;\n",
       "    }\n",
       "\n",
       "    .dataframe thead th {\n",
       "        text-align: right;\n",
       "    }\n",
       "</style>\n",
       "<table border=\"1\" class=\"dataframe\">\n",
       "  <thead>\n",
       "    <tr style=\"text-align: right;\">\n",
       "      <th></th>\n",
       "      <th>title</th>\n",
       "      <th>summary</th>\n",
       "      <th>n_enrolled</th>\n",
       "      <th>course_type</th>\n",
       "      <th>institution</th>\n",
       "      <th>instructors</th>\n",
       "      <th>Level</th>\n",
       "      <th>subject</th>\n",
       "      <th>language</th>\n",
       "      <th>subtitles</th>\n",
       "      <th>course_effort</th>\n",
       "      <th>course_length</th>\n",
       "      <th>price</th>\n",
       "      <th>course_description</th>\n",
       "      <th>course_syllabus</th>\n",
       "      <th>course_url</th>\n",
       "    </tr>\n",
       "  </thead>\n",
       "  <tbody>\n",
       "    <tr>\n",
       "      <th>972</th>\n",
       "      <td>Computational Neuroscience: Neuronal Dynamics ...</td>\n",
       "      <td>This course explains the mathematical and comp...</td>\n",
       "      <td>11,246</td>\n",
       "      <td>Self-paced on your time</td>\n",
       "      <td>École polytechnique fédérale de Lausanne</td>\n",
       "      <td>Wulfram Gerstner</td>\n",
       "      <td>Advanced</td>\n",
       "      <td>Biology &amp; Life Sciences</td>\n",
       "      <td>English</td>\n",
       "      <td>English</td>\n",
       "      <td>4–6 hours per week</td>\n",
       "      <td>6 Weeks</td>\n",
       "      <td>FREE-Add a Verified Certificate for $139 USD</td>\n",
       "      <td>What happens in your brain when you make a dec...</td>\n",
       "      <td>Textbook: Neuronal Dynamics - from single neur...</td>\n",
       "      <td>https://www.edx.org/course/computational-neuro...</td>\n",
       "    </tr>\n",
       "    <tr>\n",
       "      <th>973</th>\n",
       "      <td>Cities and the Challenge of Sustainable Develo...</td>\n",
       "      <td>What is a sustainable city? Learn the basics h...</td>\n",
       "      <td>8,775</td>\n",
       "      <td>Self-paced on your time</td>\n",
       "      <td>SDG Academy</td>\n",
       "      <td>Jeffrey D. Sachs</td>\n",
       "      <td>Introductory</td>\n",
       "      <td>Environmental Studies</td>\n",
       "      <td>English</td>\n",
       "      <td>English</td>\n",
       "      <td>1–2 hours per week</td>\n",
       "      <td>1 Weeks</td>\n",
       "      <td>FREE-Add a Verified Certificate for $25 USD</td>\n",
       "      <td>According to the United Nations, urbanization ...</td>\n",
       "      <td>Module 1: Introduction to the SDGsProfessor Je...</td>\n",
       "      <td>https://www.edx.org/course/cities-and-the-chal...</td>\n",
       "    </tr>\n",
       "    <tr>\n",
       "      <th>974</th>\n",
       "      <td>MathTrackX: Special Functions</td>\n",
       "      <td>Understand trigonometric, exponential and loga...</td>\n",
       "      <td>NaN</td>\n",
       "      <td>Self-paced on your time</td>\n",
       "      <td>University of Adelaide</td>\n",
       "      <td>Dr David Butler</td>\n",
       "      <td>Introductory</td>\n",
       "      <td>Math</td>\n",
       "      <td>English</td>\n",
       "      <td>English</td>\n",
       "      <td>3–6 hours per week</td>\n",
       "      <td>4 Weeks</td>\n",
       "      <td>FREE-Add a Verified Certificate for $79 USD</td>\n",
       "      <td>This course is part two of the MathTrackX XSer...</td>\n",
       "      <td>NaN</td>\n",
       "      <td>https://www.edx.org/course/mathtrackx-special-...</td>\n",
       "    </tr>\n",
       "  </tbody>\n",
       "</table>\n",
       "</div>"
      ],
      "text/plain": [
       "                                                 title  \\\n",
       "972  Computational Neuroscience: Neuronal Dynamics ...   \n",
       "973  Cities and the Challenge of Sustainable Develo...   \n",
       "974                      MathTrackX: Special Functions   \n",
       "\n",
       "                                               summary n_enrolled  \\\n",
       "972  This course explains the mathematical and comp...     11,246   \n",
       "973  What is a sustainable city? Learn the basics h...      8,775   \n",
       "974  Understand trigonometric, exponential and loga...        NaN   \n",
       "\n",
       "                 course_type                               institution  \\\n",
       "972  Self-paced on your time  École polytechnique fédérale de Lausanne   \n",
       "973  Self-paced on your time                               SDG Academy   \n",
       "974  Self-paced on your time                    University of Adelaide   \n",
       "\n",
       "          instructors         Level                  subject language  \\\n",
       "972  Wulfram Gerstner      Advanced  Biology & Life Sciences  English   \n",
       "973  Jeffrey D. Sachs  Introductory    Environmental Studies  English   \n",
       "974   Dr David Butler  Introductory                     Math  English   \n",
       "\n",
       "    subtitles       course_effort course_length  \\\n",
       "972   English  4–6 hours per week       6 Weeks   \n",
       "973   English  1–2 hours per week       1 Weeks   \n",
       "974   English  3–6 hours per week       4 Weeks   \n",
       "\n",
       "                                            price  \\\n",
       "972  FREE-Add a Verified Certificate for $139 USD   \n",
       "973   FREE-Add a Verified Certificate for $25 USD   \n",
       "974   FREE-Add a Verified Certificate for $79 USD   \n",
       "\n",
       "                                    course_description  \\\n",
       "972  What happens in your brain when you make a dec...   \n",
       "973  According to the United Nations, urbanization ...   \n",
       "974  This course is part two of the MathTrackX XSer...   \n",
       "\n",
       "                                       course_syllabus  \\\n",
       "972  Textbook: Neuronal Dynamics - from single neur...   \n",
       "973  Module 1: Introduction to the SDGsProfessor Je...   \n",
       "974                                                NaN   \n",
       "\n",
       "                                            course_url  \n",
       "972  https://www.edx.org/course/computational-neuro...  \n",
       "973  https://www.edx.org/course/cities-and-the-chal...  \n",
       "974  https://www.edx.org/course/mathtrackx-special-...  "
      ]
     },
     "execution_count": 3,
     "metadata": {},
     "output_type": "execute_result"
    }
   ],
   "source": [
    "edx_FILEPATH = \"../data/edx_courses.csv\"\n",
    "edx_courses = pd.read_csv(edx_FILEPATH)\n",
    "edx_courses.tail(3)"
   ]
  },
  {
   "cell_type": "code",
   "execution_count": 4,
   "metadata": {
    "colab": {
     "base_uri": "https://localhost:8080/"
    },
    "id": "r9c6A2KMGQ06",
    "outputId": "7c0c49e3-49ae-422c-8f8f-53d9b3798ae5"
   },
   "outputs": [
    {
     "data": {
      "text/plain": [
       "title                 object\n",
       "summary               object\n",
       "n_enrolled            object\n",
       "course_type           object\n",
       "institution           object\n",
       "instructors           object\n",
       "Level                 object\n",
       "subject               object\n",
       "language              object\n",
       "subtitles             object\n",
       "course_effort         object\n",
       "course_length         object\n",
       "price                 object\n",
       "course_description    object\n",
       "course_syllabus       object\n",
       "course_url            object\n",
       "dtype: object"
      ]
     },
     "execution_count": 4,
     "metadata": {},
     "output_type": "execute_result"
    }
   ],
   "source": [
    "edx_courses.dtypes"
   ]
  },
  {
   "cell_type": "markdown",
   "metadata": {
    "id": "aIprk2eWTGSd"
   },
   "source": [
    "## Data Cleaning"
   ]
  },
  {
   "cell_type": "code",
   "execution_count": 36,
   "metadata": {
    "colab": {
     "base_uri": "https://localhost:8080/"
    },
    "id": "j4vW4g-iQLa4",
    "outputId": "80755de6-e457-4526-a3b7-5d5e022983d7"
   },
   "outputs": [
    {
     "data": {
      "text/plain": [
       "title                   0\n",
       "summary                53\n",
       "n_enrolled            120\n",
       "course_type             0\n",
       "institution             0\n",
       "instructors             3\n",
       "Level                   0\n",
       "subject                 0\n",
       "language                0\n",
       "subtitles               3\n",
       "course_effort           0\n",
       "course_length           0\n",
       "price                   0\n",
       "course_description     40\n",
       "course_syllabus       558\n",
       "course_url              0\n",
       "dtype: int64"
      ]
     },
     "execution_count": 36,
     "metadata": {},
     "output_type": "execute_result"
    }
   ],
   "source": [
    "# sum of null values in every column\n",
    "edx_courses.isna().sum()"
   ]
  },
  {
   "cell_type": "code",
   "execution_count": 37,
   "metadata": {
    "colab": {
     "base_uri": "https://localhost:8080/"
    },
    "id": "rTD4wRP3MiiQ",
    "outputId": "397c3a8b-09f1-473f-de20-6a07990892d5"
   },
   "outputs": [
    {
     "name": "stderr",
     "output_type": "stream",
     "text": [
      "<ipython-input-37-8add241d36b6>:3: FutureWarning: The default value of regex will change from True to False in a future version. In addition, single character regular expressions will*not* be treated as literal strings when regex=True.\n",
      "  edx_courses['price'] = edx_courses['price'].str.replace('$', '')\n"
     ]
    },
    {
     "data": {
      "text/plain": [
       "0       49.0\n",
       "1       49.0\n",
       "2       90.0\n",
       "3      199.0\n",
       "4      249.0\n",
       "       ...  \n",
       "970     25.0\n",
       "971    139.0\n",
       "972    139.0\n",
       "973     25.0\n",
       "974     79.0\n",
       "Name: price, Length: 975, dtype: float64"
      ]
     },
     "execution_count": 37,
     "metadata": {},
     "output_type": "execute_result"
    }
   ],
   "source": [
    "# clean 'price' column\n",
    "edx_courses['price'] = edx_courses['price'].str.replace('FREE-Add a Verified Certificate for ', '')\n",
    "edx_courses['price'] = edx_courses['price'].str.replace('$', '')\n",
    "edx_courses['price'] = edx_courses['price'].str.replace(' USD', '')\n",
    "edx_courses['price'] = edx_courses['price'].astype(float)\n",
    "edx_courses['price']"
   ]
  },
  {
   "cell_type": "code",
   "execution_count": 38,
   "metadata": {
    "colab": {
     "base_uri": "https://localhost:8080/"
    },
    "id": "ZXMBqg3rNkpT",
    "outputId": "4ae9404d-6cc2-4696-cf76-6691771865db"
   },
   "outputs": [
    {
     "data": {
      "text/plain": [
       "0     124980\n",
       "1     293864\n",
       "2    2442271\n",
       "3     129555\n",
       "4      81140\n",
       "Name: n_enrolled, dtype: int32"
      ]
     },
     "execution_count": 38,
     "metadata": {},
     "output_type": "execute_result"
    }
   ],
   "source": [
    "# clean 'n_enrolled' column\n",
    "edx_courses['n_enrolled'] = edx_courses['n_enrolled'].str.replace(',', '')\n",
    "edx_courses['n_enrolled'] = edx_courses['n_enrolled'].fillna(0)\n",
    "edx_courses['n_enrolled'] = edx_courses['n_enrolled'].astype(int)\n",
    "edx_courses['n_enrolled'].head()"
   ]
  },
  {
   "cell_type": "code",
   "execution_count": 39,
   "metadata": {
    "colab": {
     "base_uri": "https://localhost:8080/"
    },
    "id": "tLT3qxZQGo7J",
    "outputId": "24d6b3ff-757f-42b5-8f0c-d78349f557cf"
   },
   "outputs": [
    {
     "data": {
      "text/plain": [
       "0     2\n",
       "1     7\n",
       "2    12\n",
       "3    13\n",
       "4     4\n",
       "Name: course_length, dtype: int32"
      ]
     },
     "execution_count": 39,
     "metadata": {},
     "output_type": "execute_result"
    }
   ],
   "source": [
    "# clean 'course_length' column\n",
    "edx_courses['course_length'] = edx_courses['course_length'].str.replace('Weeks', '')\n",
    "edx_courses['course_length'] = edx_courses['course_length'].astype(int)\n",
    "edx_courses['course_length'].head()"
   ]
  },
  {
   "cell_type": "code",
   "execution_count": 40,
   "metadata": {
    "id": "0PpcOQJAT84y"
   },
   "outputs": [],
   "source": [
    "# fill null values\n",
    "edx_courses['summary'] = edx_courses['summary'].fillna('Unlisted')\n",
    "edx_courses['instructors'] = edx_courses['instructors'].fillna('Unlisted')\n",
    "edx_courses['subtitles'] = edx_courses['subtitles'].fillna('English')\n",
    "edx_courses['course_description'] = edx_courses['course_description'].fillna('Unlisted')\n",
    "edx_courses['course_syllabus'] = edx_courses['course_syllabus'].fillna('Unlisted')"
   ]
  },
  {
   "cell_type": "code",
   "execution_count": 41,
   "metadata": {
    "colab": {
     "base_uri": "https://localhost:8080/"
    },
    "id": "q5fxK-2_Pk6T",
    "outputId": "d98cf5da-656d-4bfc-ed02-73fa92d34a6d",
    "scrolled": true
   },
   "outputs": [
    {
     "data": {
      "text/plain": [
       "title                 0\n",
       "summary               0\n",
       "n_enrolled            0\n",
       "course_type           0\n",
       "institution           0\n",
       "instructors           0\n",
       "Level                 0\n",
       "subject               0\n",
       "language              0\n",
       "subtitles             0\n",
       "course_effort         0\n",
       "course_length         0\n",
       "price                 0\n",
       "course_description    0\n",
       "course_syllabus       0\n",
       "course_url            0\n",
       "dtype: int64"
      ]
     },
     "execution_count": 41,
     "metadata": {},
     "output_type": "execute_result"
    }
   ],
   "source": [
    "# sum of null values in every column(after filling)\n",
    "edx_courses.isna().sum()"
   ]
  },
  {
   "cell_type": "code",
   "execution_count": 42,
   "metadata": {
    "scrolled": true
   },
   "outputs": [
    {
     "data": {
      "text/plain": [
       "title                  object\n",
       "summary                object\n",
       "n_enrolled              int32\n",
       "course_type            object\n",
       "institution            object\n",
       "instructors            object\n",
       "Level                  object\n",
       "subject                object\n",
       "language               object\n",
       "subtitles              object\n",
       "course_effort          object\n",
       "course_length           int32\n",
       "price                 float64\n",
       "course_description     object\n",
       "course_syllabus        object\n",
       "course_url             object\n",
       "dtype: object"
      ]
     },
     "execution_count": 42,
     "metadata": {},
     "output_type": "execute_result"
    }
   ],
   "source": [
    "edx_courses.dtypes"
   ]
  },
  {
   "cell_type": "markdown",
   "metadata": {
    "id": "RJBX78_TWzUx"
   },
   "source": [
    "## Data transformation"
   ]
  },
  {
   "cell_type": "code",
   "execution_count": 43,
   "metadata": {
    "colab": {
     "base_uri": "https://localhost:8080/"
    },
    "id": "ZqxnYyqeV6E2",
    "outputId": "6de07656-11e5-4b1e-da0b-f00dbf5a009e"
   },
   "outputs": [
    {
     "name": "stdout",
     "output_type": "stream",
     "text": [
      "Introductory    621\n",
      "Intermediate    267\n",
      "Advanced         87\n",
      "Name: Level, dtype: int64\n",
      "\n",
      "2    621\n",
      "1    267\n",
      "0     87\n",
      "Name: Level, dtype: int64\n"
     ]
    }
   ],
   "source": [
    "# establish categories used in column: ['Advanced', 'Intermediate', 'Introductory']\n",
    "edx_courses['Level'] = edx_courses['Level'].astype('category')\n",
    "print(edx_courses['Level'].value_counts())\n",
    "print()\n",
    "\n",
    "# transform categories to numerical values\n",
    "edx_courses['Level'] = edx_courses['Level'].cat.codes\n",
    "print(edx_courses['Level'].value_counts())"
   ]
  },
  {
   "cell_type": "code",
   "execution_count": 44,
   "metadata": {
    "colab": {
     "base_uri": "https://localhost:8080/"
    },
    "id": "lJx-qOWpXAB-",
    "outputId": "c38dcfa2-35a9-49ce-b6a9-565fe426959c"
   },
   "outputs": [
    {
     "name": "stdout",
     "output_type": "stream",
     "text": [
      "Self-paced on your time                917\n",
      "Instructor-led on a course schedule     58\n",
      "Name: course_type, dtype: int64\n",
      "\n",
      "1    917\n",
      "0     58\n",
      "Name: course_type, dtype: int64\n"
     ]
    }
   ],
   "source": [
    "# establish categories used in column: ['Instructor-led on a course schedule', 'Self-paced on your time']\n",
    "edx_courses['course_type'] = edx_courses['course_type'].astype('category')\n",
    "print(edx_courses['course_type'].value_counts())\n",
    "print()\n",
    "\n",
    "# transform categories to numerical values\n",
    "edx_courses['course_type'] = edx_courses['course_type'].cat.codes\n",
    "print(edx_courses['course_type'].value_counts())"
   ]
  },
  {
   "cell_type": "code",
   "execution_count": 46,
   "metadata": {
    "colab": {
     "base_uri": "https://localhost:8080/"
    },
    "id": "lM_pj7J1J9en",
    "outputId": "c03e01a1-4623-441d-cd8b-8d9b7980c139"
   },
   "outputs": [
    {
     "name": "stdout",
     "output_type": "stream",
     "text": [
      "<class 'pandas.core.frame.DataFrame'>\n",
      "RangeIndex: 975 entries, 0 to 974\n",
      "Data columns (total 16 columns):\n",
      " #   Column              Non-Null Count  Dtype  \n",
      "---  ------              --------------  -----  \n",
      " 0   title               975 non-null    object \n",
      " 1   summary             975 non-null    object \n",
      " 2   n_enrolled          975 non-null    int32  \n",
      " 3   course_type         975 non-null    int8   \n",
      " 4   institution         975 non-null    object \n",
      " 5   instructors         975 non-null    object \n",
      " 6   Level               975 non-null    int8   \n",
      " 7   subject             975 non-null    object \n",
      " 8   language            975 non-null    object \n",
      " 9   subtitles           975 non-null    object \n",
      " 10  course_effort       975 non-null    object \n",
      " 11  course_length       975 non-null    int32  \n",
      " 12  price               975 non-null    float64\n",
      " 13  course_description  975 non-null    object \n",
      " 14  course_syllabus     975 non-null    object \n",
      " 15  course_url          975 non-null    object \n",
      "dtypes: float64(1), int32(2), int8(2), object(11)\n",
      "memory usage: 101.1+ KB\n"
     ]
    }
   ],
   "source": [
    "edx_courses.info()"
   ]
  },
  {
   "cell_type": "code",
   "execution_count": 45,
   "metadata": {},
   "outputs": [
    {
     "data": {
      "text/html": [
       "<div>\n",
       "<style scoped>\n",
       "    .dataframe tbody tr th:only-of-type {\n",
       "        vertical-align: middle;\n",
       "    }\n",
       "\n",
       "    .dataframe tbody tr th {\n",
       "        vertical-align: top;\n",
       "    }\n",
       "\n",
       "    .dataframe thead th {\n",
       "        text-align: right;\n",
       "    }\n",
       "</style>\n",
       "<table border=\"1\" class=\"dataframe\">\n",
       "  <thead>\n",
       "    <tr style=\"text-align: right;\">\n",
       "      <th></th>\n",
       "      <th>n_enrolled</th>\n",
       "      <th>course_type</th>\n",
       "      <th>Level</th>\n",
       "      <th>course_length</th>\n",
       "      <th>price</th>\n",
       "    </tr>\n",
       "  </thead>\n",
       "  <tbody>\n",
       "    <tr>\n",
       "      <th>count</th>\n",
       "      <td>9.750000e+02</td>\n",
       "      <td>975.000000</td>\n",
       "      <td>975.000000</td>\n",
       "      <td>975.000000</td>\n",
       "      <td>975.000000</td>\n",
       "    </tr>\n",
       "    <tr>\n",
       "      <th>mean</th>\n",
       "      <td>4.670523e+04</td>\n",
       "      <td>0.940513</td>\n",
       "      <td>1.547692</td>\n",
       "      <td>6.705641</td>\n",
       "      <td>100.465497</td>\n",
       "    </tr>\n",
       "    <tr>\n",
       "      <th>std</th>\n",
       "      <td>1.128239e+05</td>\n",
       "      <td>0.236656</td>\n",
       "      <td>0.653165</td>\n",
       "      <td>3.150327</td>\n",
       "      <td>69.572175</td>\n",
       "    </tr>\n",
       "    <tr>\n",
       "      <th>min</th>\n",
       "      <td>0.000000e+00</td>\n",
       "      <td>0.000000</td>\n",
       "      <td>0.000000</td>\n",
       "      <td>1.000000</td>\n",
       "      <td>5.000000</td>\n",
       "    </tr>\n",
       "    <tr>\n",
       "      <th>25%</th>\n",
       "      <td>8.529500e+03</td>\n",
       "      <td>1.000000</td>\n",
       "      <td>1.000000</td>\n",
       "      <td>4.000000</td>\n",
       "      <td>49.000000</td>\n",
       "    </tr>\n",
       "    <tr>\n",
       "      <th>50%</th>\n",
       "      <td>1.968700e+04</td>\n",
       "      <td>1.000000</td>\n",
       "      <td>2.000000</td>\n",
       "      <td>6.000000</td>\n",
       "      <td>79.000000</td>\n",
       "    </tr>\n",
       "    <tr>\n",
       "      <th>75%</th>\n",
       "      <td>4.891850e+04</td>\n",
       "      <td>1.000000</td>\n",
       "      <td>2.000000</td>\n",
       "      <td>8.000000</td>\n",
       "      <td>149.000000</td>\n",
       "    </tr>\n",
       "    <tr>\n",
       "      <th>max</th>\n",
       "      <td>2.442271e+06</td>\n",
       "      <td>1.000000</td>\n",
       "      <td>2.000000</td>\n",
       "      <td>18.000000</td>\n",
       "      <td>450.000000</td>\n",
       "    </tr>\n",
       "  </tbody>\n",
       "</table>\n",
       "</div>"
      ],
      "text/plain": [
       "         n_enrolled  course_type       Level  course_length       price\n",
       "count  9.750000e+02   975.000000  975.000000     975.000000  975.000000\n",
       "mean   4.670523e+04     0.940513    1.547692       6.705641  100.465497\n",
       "std    1.128239e+05     0.236656    0.653165       3.150327   69.572175\n",
       "min    0.000000e+00     0.000000    0.000000       1.000000    5.000000\n",
       "25%    8.529500e+03     1.000000    1.000000       4.000000   49.000000\n",
       "50%    1.968700e+04     1.000000    2.000000       6.000000   79.000000\n",
       "75%    4.891850e+04     1.000000    2.000000       8.000000  149.000000\n",
       "max    2.442271e+06     1.000000    2.000000      18.000000  450.000000"
      ]
     },
     "execution_count": 45,
     "metadata": {},
     "output_type": "execute_result"
    }
   ],
   "source": [
    "edx_courses.describe()"
   ]
  },
  {
   "cell_type": "markdown",
   "metadata": {
    "id": "8LKuKWAOhFA5"
   },
   "source": [
    "Now the whole dataset is cleaned and even."
   ]
  },
  {
   "cell_type": "code",
   "execution_count": 30,
   "metadata": {
    "colab": {
     "base_uri": "https://localhost:8080/"
    },
    "id": "Y5pH-3o0YJ36",
    "outputId": "582a50e2-b8a4-4db4-c3aa-efea54290091",
    "scrolled": true
   },
   "outputs": [
    {
     "data": {
      "text/plain": [
       "Computer Science                166\n",
       "Business & Management           164\n",
       "Data Analysis & Statistics       72\n",
       "Humanities                       64\n",
       "Engineering                      58\n",
       "Social Sciences                  51\n",
       "Economics & Finance              46\n",
       "Communication                    39\n",
       "Biology & Life Sciences          35\n",
       "Language                         34\n",
       "Medicine                         31\n",
       "Math                             31\n",
       "Education & Teacher Training     29\n",
       "History                          20\n",
       "Physics                          18\n",
       "Environmental Studies            16\n",
       "Art & Culture                    12\n",
       "Health & Safety                  11\n",
       "Science                          10\n",
       "Law                              10\n",
       "Design                            8\n",
       "Energy & Earth Sciences           8\n",
       "Electronics                       7\n",
       "Music                             7\n",
       "Philosophy & Ethics               6\n",
       "Food & Nutrition                  6\n",
       "Architecture                      5\n",
       "Chemistry                         5\n",
       "Literature                        4\n",
       "Philanthropy                      1\n",
       "Ethics                            1\n",
       "Name: subject, dtype: int64"
      ]
     },
     "execution_count": 30,
     "metadata": {},
     "output_type": "execute_result"
    }
   ],
   "source": [
    "# subjects with the most courses in edx(in ascending order)\n",
    "edx_courses['subject'].value_counts()"
   ]
  },
  {
   "cell_type": "code",
   "execution_count": 31,
   "metadata": {},
   "outputs": [],
   "source": [
    "# export the cleaned dataset(edx_courses) to a csv file\n",
    "edx_courses_clean = edx_courses.to_csv(\"edx_courses_clean.csv\")"
   ]
  }
 ],
 "metadata": {
  "colab": {
   "provenance": []
  },
  "kernelspec": {
   "display_name": "Python 3",
   "language": "python",
   "name": "python3"
  },
  "language_info": {
   "codemirror_mode": {
    "name": "ipython",
    "version": 3
   },
   "file_extension": ".py",
   "mimetype": "text/x-python",
   "name": "python",
   "nbconvert_exporter": "python",
   "pygments_lexer": "ipython3",
   "version": "3.8.8"
  }
 },
 "nbformat": 4,
 "nbformat_minor": 1
}
